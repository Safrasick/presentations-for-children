{
  "nbformat": 4,
  "nbformat_minor": 0,
  "metadata": {
    "colab": {
      "provenance": [],
      "collapsed_sections": [
        "eAwvfAjs1wdB",
        "rlSksCzR11II",
        "-IrQUaplhk1Y",
        "xFUpNwU8h9VM",
        "Pj9V1jK8uTpw",
        "Dp3f8C93u1qa",
        "9RjnidauyEQ1",
        "Sl-T79ozwPTZ",
        "dT-EkqdRwNMz",
        "J2D0jg6vwwjk",
        "gvaWkvMvw1IJ",
        "9iBwEdxXxEUK",
        "h_d7zPZl4-e2",
        "h7SfZ8jq6K-n",
        "qHXv-1Ig_ha0",
        "jrPZ-yv0AQ2Q",
        "pT13JSeLATd3",
        "mfuCVXJ0Asue",
        "ci3OF-VMt-4V",
        "qSLhW8vjx3zI",
        "AMSN9Go8yqbz",
        "4Wq5OY-z2K76",
        "DnxHMqFYz8KQ",
        "vsq3DQCM0r5J",
        "8qghdd6F08pH",
        "lWdAVNqQVeuA",
        "puuINSDI1tA2",
        "P_G-JQqXVeuC",
        "Zho634yCtIzW",
        "eSM6iL-DVeuE",
        "vlZDAfMwVeuF",
        "BGl26Yh6VeuF",
        "IW0IMLaUykun",
        "EaGP0aiCyy-S",
        "7SybeRpoy2lr",
        "k5-pzuYcy64e",
        "XAFaC9Vyy-MS",
        "pI8pjqLCzCiq",
        "5SUagE_JycNA",
        "1WLbHWIOzWDU",
        "kc9jUBqLzbis",
        "-K6l-FJ4zk-v",
        "OxJVowf6zrSe",
        "2p2byj-XzwK0",
        "tZpXAXfGz1BW",
        "o7cK6b_7z7sM",
        "c-KU0nAGMgbC",
        "OHrV7iCY0R9Q",
        "6XbLf7XVULEF",
        "ew3KwMxQ0eAe",
        "pRPV39EYB-Go",
        "wuP2HCLoI1c1",
        "8yKYxCcaKH37",
        "UQB45sUgnc2M",
        "uyAaTBwVof5g",
        "CIdw2t0F2i4x",
        "vWalS0MW2oPK",
        "FnO0d_P4_TMm",
        "a0nWIPEQTlD7",
        "7RLcox7m_k77",
        "mxNeJKfwWap7",
        "Xw1KUIxt_5Ma",
        "LpsSV2UCuO5G",
        "YpiGAYmEAGkW",
        "tkBJaS7EARkI",
        "12IhNQzdAafH",
        "aaLBK7TWAhMl",
        "t7C6Aw_PAyyO",
        "c8-B31QsA3tN",
        "BUunxqEbA-Cv",
        "VoKs-AmLBEJ3",
        "BhYX52n1A1Q4",
        "Dur7g9_zLVyD",
        "b_qKzJz_OD9u",
        "u0SWT3hKM3H7",
        "sFXGOJa2oqeS",
        "gnCmFieaqjJL",
        "hH0VuCir95xi",
        "Tjbe8Ym_FM2N",
        "ZLYwxOWG1s1i",
        "cU6y-oNlFtjd",
        "ayN-vi33CtDw",
        "RsFoGCY7CyRX",
        "VwY2jdBuC--f",
        "tUQRbg98DCjT",
        "NHfU59uJDJ9a"
      ]
    },
    "kernelspec": {
      "name": "python3",
      "display_name": "Python 3"
    },
    "language_info": {
      "name": "python"
    }
  },
  "cells": [
    {
      "cell_type": "markdown",
      "metadata": {
        "id": "eAwvfAjs1wdB"
      },
      "source": [
        "## Задача 1"
      ]
    },
    {
      "cell_type": "markdown",
      "metadata": {
        "id": "C9gk1Z2S1zF5"
      },
      "source": [
        "Страницы в книге пронумерованы последовательно, начиная с 1. Всего сумма кол-ва символов в числах страниц - 1578. Сколько страниц в книге?"
      ]
    },
    {
      "cell_type": "markdown",
      "metadata": {
        "id": "749HlU-jJmd0"
      },
      "source": [
        "Пример:\n",
        "\n",
        "В книге 12 страниц, из них 9 страниц с одним знаком (1,2...,9) и три с двумя знаками (10, 11, 12). Расчет количества знаков: 1х9 + 3х2 = 15."
      ]
    },
    {
      "cell_type": "code",
      "metadata": {
        "id": "7X9mBLcS10Yk"
      },
      "source": [
        "# Ваш код\n"
      ],
      "execution_count": null,
      "outputs": []
    },
    {
      "cell_type": "markdown",
      "metadata": {
        "id": "rlSksCzR11II"
      },
      "source": [
        "### Решение"
      ]
    },
    {
      "cell_type": "code",
      "metadata": {
        "colab": {
          "base_uri": "https://localhost:8080/"
        },
        "id": "0BnCsk8q14Wi",
        "outputId": "0c9848b4-2723-44bc-b179-2a9b1ddf64ae"
      },
      "source": [
        "# Так как в номерах страниц 1578 знаков, то можно сделать вывод, что в книге трёхзначное число страниц.\n",
        "# Всего 9 страниц с одним знаком, 90 страниц с двумя знаками и n страниц с тремя знаками.\n",
        "# Нахождение n: 1*9 + 2*90 + n*3 = 1578\n",
        "n = (1578 - (1*9 + 2*90)) / 3             # Нахождение n\n",
        "result = n + 9 + 90                       # Получение количества страниц в книге\n",
        "print('Правильный ответ:', int(result))   # Вывод результата\n"
      ],
      "execution_count": null,
      "outputs": [
        {
          "output_type": "stream",
          "text": [
            "Правильный ответ: 562\n"
          ],
          "name": "stdout"
        }
      ]
    },
    {
      "cell_type": "markdown",
      "metadata": {
        "id": "-IrQUaplhk1Y"
      },
      "source": [
        "## Задача 2"
      ]
    },
    {
      "cell_type": "markdown",
      "metadata": {
        "id": "IMVl_zlAhxmM"
      },
      "source": [
        "В саду растут яблони (всего 5 деревьев). На первой яблоне созрело 13 яблок, на второй 18, на третьей 8, на четвертой 21 и на пятой 20. Создайте список с количеством яблок на каждом дереве. При помощи цикла for, пройдите по списку с количеством яблок на каждом дереве и посчитайте их общую сумму."
      ]
    },
    {
      "cell_type": "code",
      "metadata": {
        "id": "a-s-YS87h5My"
      },
      "source": [
        "# Ваш код\n"
      ],
      "execution_count": null,
      "outputs": []
    },
    {
      "cell_type": "markdown",
      "metadata": {
        "id": "xFUpNwU8h9VM"
      },
      "source": [
        "### Решение"
      ]
    },
    {
      "cell_type": "code",
      "metadata": {
        "colab": {
          "base_uri": "https://localhost:8080/"
        },
        "id": "oG-5gWJEh_tN",
        "outputId": "4967b165-e675-4836-c870-4461f97659b0"
      },
      "source": [
        "spisok = [13, 18, 8, 21, 20]              # Список с количеством яблок на каждом дереве\n",
        "a = 0                                     # Переменная а для хранения суммы всех яблок\n",
        "for i in spisok:                          # Проход циклом по списку\n",
        "  a += i                                  # Добавление в переменную яблок с каждого дерева\n",
        "print(a)                                  # Вывод результата"
      ],
      "execution_count": null,
      "outputs": [
        {
          "output_type": "stream",
          "text": [
            "80\n"
          ],
          "name": "stdout"
        }
      ]
    },
    {
      "cell_type": "markdown",
      "metadata": {
        "id": "Pj9V1jK8uTpw"
      },
      "source": [
        "## Задача 3"
      ]
    },
    {
      "cell_type": "markdown",
      "metadata": {
        "id": "I_o8UYhYTpwQ"
      },
      "source": [
        "Напишите программу, которая берет список чисел (например, a_list = [1, 4, 9, 16, 25, 36, 49, 64, 81, 100]) и составляет новый список только из первого и последнего элементов данного списка.\n",
        "\n",
        "\n"
      ]
    },
    {
      "cell_type": "code",
      "metadata": {
        "id": "rsaCf2Muu27I"
      },
      "source": [
        "# Ваше решение\n"
      ],
      "execution_count": null,
      "outputs": []
    },
    {
      "cell_type": "markdown",
      "metadata": {
        "id": "Dp3f8C93u1qa"
      },
      "source": [
        "### Решение"
      ]
    },
    {
      "cell_type": "code",
      "metadata": {
        "id": "VGOVaXspr5NK",
        "colab": {
          "base_uri": "https://localhost:8080/"
        },
        "outputId": "9ad7f5ce-8659-4a1e-dc3e-5376dbcb696f"
      },
      "source": [
        "# Создание списка чисел\n",
        "a_list=[1, 4, 9, 16, 25, 36, 49, 64, 81, 100]\n",
        "# Создание списка из первого и последнего элементов\n",
        "list_index = [a_list[0], a_list[-1]]\n",
        "# Вывод результата\n",
        "list_index"
      ],
      "execution_count": null,
      "outputs": [
        {
          "output_type": "execute_result",
          "data": {
            "text/plain": [
              "[1, 100]"
            ]
          },
          "metadata": {
            "tags": []
          },
          "execution_count": 1
        }
      ]
    },
    {
      "cell_type": "markdown",
      "metadata": {
        "id": "9RjnidauyEQ1"
      },
      "source": [
        "## Задача 4"
      ]
    },
    {
      "cell_type": "code",
      "metadata": {
        "id": "E5Ca2FSeLJVL"
      },
      "source": [],
      "execution_count": null,
      "outputs": []
    },
    {
      "cell_type": "markdown",
      "metadata": {
        "id": "ZxyO7qXypr7Z"
      },
      "source": [
        "Создайте список из десяти элементов от 15 до 25 (не включая число 25) с помощью цикла for.\n"
      ]
    },
    {
      "cell_type": "code",
      "metadata": {
        "id": "_KlLE6BMwQJY"
      },
      "source": [
        "# Ваше решение\n"
      ],
      "execution_count": null,
      "outputs": []
    },
    {
      "cell_type": "markdown",
      "metadata": {
        "id": "Sl-T79ozwPTZ"
      },
      "source": [
        "### Решение"
      ]
    },
    {
      "cell_type": "code",
      "metadata": {
        "colab": {
          "base_uri": "https://localhost:8080/"
        },
        "id": "WE3ksMFZpsV0",
        "outputId": "e8344a95-9508-477a-d16f-4846cbfe284c"
      },
      "source": [
        "a = []                                    # Создание пустого списка\n",
        "for i in range(15, 25):                   # Для чисел от 15 (вкл.) до 25 (не вкл.)\n",
        "    a.append(i)                           # Добавление числа в список а\n",
        "print(a)                                  # Вывод получившегося списка"
      ],
      "execution_count": null,
      "outputs": [
        {
          "output_type": "stream",
          "text": [
            "[15, 16, 17, 18, 19, 20, 21, 22, 23, 24]\n"
          ],
          "name": "stdout"
        }
      ]
    },
    {
      "cell_type": "markdown",
      "metadata": {
        "id": "dT-EkqdRwNMz"
      },
      "source": [
        "## Задача 5"
      ]
    },
    {
      "cell_type": "markdown",
      "metadata": {
        "id": "LsBGFmZ_CB8J"
      },
      "source": [
        "Посчитайте площадь поверхности шара, с радиусом R = 7, число pi = 3.14"
      ]
    },
    {
      "cell_type": "code",
      "metadata": {
        "id": "u5VwbO8UwuCT"
      },
      "source": [
        "# Ваше решение\n"
      ],
      "execution_count": null,
      "outputs": []
    },
    {
      "cell_type": "markdown",
      "metadata": {
        "id": "J2D0jg6vwwjk"
      },
      "source": [
        "### Решение"
      ]
    },
    {
      "cell_type": "code",
      "metadata": {
        "colab": {
          "base_uri": "https://localhost:8080/"
        },
        "id": "-x_LOncjB9WY",
        "outputId": "53a95644-dd6a-44c8-8271-ac180cfc0e84"
      },
      "source": [
        "R = 7                                     # Радиус\n",
        "pi = 3.14                                 # Число Пи\n",
        "s = 4 * pi * R**2                         # Площадь поверхности шара по формуле\n",
        "print(s)                                  # Вывод результата"
      ],
      "execution_count": null,
      "outputs": [
        {
          "output_type": "stream",
          "text": [
            "615.44\n"
          ],
          "name": "stdout"
        }
      ]
    },
    {
      "cell_type": "markdown",
      "metadata": {
        "id": "gvaWkvMvw1IJ"
      },
      "source": [
        "## Задача 6"
      ]
    },
    {
      "cell_type": "markdown",
      "metadata": {
        "id": "4kM8fwsfDfxv"
      },
      "source": [
        "Дан список элементов. Выведите первый и последний элемент списка.\n",
        "\n",
        "a = ['Нулевой элемент', 2, 5, 8, (3.5,55)]"
      ]
    },
    {
      "cell_type": "code",
      "metadata": {
        "id": "Nhp9sAu5EJcM"
      },
      "source": [
        " # Список\n",
        " a = ['Нулевой элемент', 2, 5, 8, (3.5,55)]"
      ],
      "execution_count": null,
      "outputs": []
    },
    {
      "cell_type": "code",
      "metadata": {
        "id": "CWf0UeudxANh"
      },
      "source": [
        "# Ваше решение\n"
      ],
      "execution_count": null,
      "outputs": []
    },
    {
      "cell_type": "markdown",
      "metadata": {
        "id": "9iBwEdxXxEUK"
      },
      "source": [
        "### Решение"
      ]
    },
    {
      "cell_type": "code",
      "metadata": {
        "colab": {
          "base_uri": "https://localhost:8080/"
        },
        "id": "v6ZwGbSkEQC7",
        "outputId": "7ec5564c-733a-4c08-fbe4-696021df3558"
      },
      "source": [
        "print('Первый элемент;',a[0])             # Вывод первого элемента списка\n",
        "print('Последний элемент:',a[-1])         # Вывод последнего элемента списка"
      ],
      "execution_count": null,
      "outputs": [
        {
          "output_type": "stream",
          "text": [
            "Первый элемент; Нулевой элемент\n",
            "Последний элемент: (3.5, 55)\n"
          ],
          "name": "stdout"
        }
      ]
    },
    {
      "cell_type": "markdown",
      "metadata": {
        "id": "h_d7zPZl4-e2"
      },
      "source": [
        "## Задача 7"
      ]
    },
    {
      "cell_type": "markdown",
      "metadata": {
        "id": "DXr9pR5d5GTi"
      },
      "source": [
        "Создайте переменную с именем pervaya и значением 100.\n",
        "\n",
        "На следующей строке создайте новую переменную с именем vtoraya и значением 12.123445643.\n",
        "\n",
        "С помощью функции print() напишите фразу: 100 - 12.123445643 равно 87.876554357\n",
        "\n",
        "Воспользуйтесь именами переменных для решения задания"
      ]
    },
    {
      "cell_type": "code",
      "metadata": {
        "id": "gh4WVeWE9joH"
      },
      "source": [
        "# Ваше решение\n"
      ],
      "execution_count": null,
      "outputs": []
    },
    {
      "cell_type": "markdown",
      "metadata": {
        "id": "h7SfZ8jq6K-n"
      },
      "source": [
        "### Решение"
      ]
    },
    {
      "cell_type": "code",
      "metadata": {
        "id": "9Np4IXsK6OA3",
        "colab": {
          "base_uri": "https://localhost:8080/"
        },
        "outputId": "0b07fdf0-336c-463a-f102-b6bd8f7d944c"
      },
      "source": [
        "# Создание переменной с именем pervaya и присвоение ей значения 100\n",
        "pervaya = 100\n",
        "# Создание переменной с именем vtoraya и присвоение ей значения 12.123445643\n",
        "vtoraya = 12.123445643\n",
        "# Верный вариант вывода, но без использования переменных\n",
        "print(\"100 - 12.123445643 равно 87.876554357\")\n",
        "# Верный вариант вывода с использованием переменных\n",
        "print(pervaya,\"-\", vtoraya,\"равно\", pervaya - vtoraya)"
      ],
      "execution_count": null,
      "outputs": [
        {
          "output_type": "stream",
          "text": [
            "100 - 12.123445643 равно 87.876554357\n",
            "100 - 12.123445643 равно 87.876554357\n"
          ],
          "name": "stdout"
        }
      ]
    },
    {
      "cell_type": "markdown",
      "metadata": {
        "id": "qHXv-1Ig_ha0"
      },
      "source": [
        "## Задача 8"
      ]
    },
    {
      "cell_type": "markdown",
      "metadata": {
        "id": "fgo14F1T_kL3"
      },
      "source": [
        "Создайте переменную с произвольным именем и запишите в нее значение 123.\n",
        "\n",
        "Создайте еще одну переменную, также с произвольным именем, и запишите в нее значение '123' (в кавычках)\n",
        "\n",
        "С помощью функции print() выведите на экран сначала значение первой переменной, а затем второй (каждый print на новой строке)"
      ]
    },
    {
      "cell_type": "code",
      "metadata": {
        "id": "z5upb1_dAQtn"
      },
      "source": [
        "# Ваше решение\n"
      ],
      "execution_count": null,
      "outputs": []
    },
    {
      "cell_type": "markdown",
      "metadata": {
        "id": "jrPZ-yv0AQ2Q"
      },
      "source": [
        "### Решение"
      ]
    },
    {
      "cell_type": "code",
      "metadata": {
        "id": "yNNnYUWh_Rf3",
        "colab": {
          "base_uri": "https://localhost:8080/"
        },
        "outputId": "f8d8951b-0fdd-4585-fb62-918851b30f61"
      },
      "source": [
        "# Создание переменной с именем one_v и присвоение ей значения 123\n",
        "one_v = 123\n",
        "# Создание переменной с именем two_v и присвоение ей значения '123'\n",
        "two_v = '123'\n",
        "# Вывод на экран значения переменной one_v\n",
        "print(one_v)\n",
        "# Вывод на экран значения переменной two_v\n",
        "print(two_v)"
      ],
      "execution_count": null,
      "outputs": [
        {
          "output_type": "stream",
          "text": [
            "123\n",
            "123\n"
          ],
          "name": "stdout"
        }
      ]
    },
    {
      "cell_type": "markdown",
      "metadata": {
        "id": "pT13JSeLATd3"
      },
      "source": [
        "## Задача 9"
      ]
    },
    {
      "cell_type": "markdown",
      "metadata": {
        "id": "Vzgjo6W6AZbA"
      },
      "source": [
        "Обратите внимание на результут прошлой задачи. В обоих случаях вывелось одно и то же значение: 123. Но это разные переменные. Давайте это проверим.\n",
        "\n",
        "С помощью функций type() и print() выведите сначала тип переменной one_v, а затем тип переменной two_v."
      ]
    },
    {
      "cell_type": "code",
      "metadata": {
        "id": "89YW4ae6AsmJ"
      },
      "source": [
        "# Ваше решение\n"
      ],
      "execution_count": null,
      "outputs": []
    },
    {
      "cell_type": "markdown",
      "metadata": {
        "id": "mfuCVXJ0Asue"
      },
      "source": [
        "### Решение"
      ]
    },
    {
      "cell_type": "code",
      "metadata": {
        "id": "vqhWcOaNAPJM",
        "colab": {
          "base_uri": "https://localhost:8080/"
        },
        "outputId": "72fc1663-29cf-4d8d-a0aa-7c9c5c84da92"
      },
      "source": [
        "print(type(one_v))                        # Вывод типа переменной one_v\n",
        "print(type(two_v))                        # Вывод типа переменной two_v"
      ],
      "execution_count": null,
      "outputs": [
        {
          "output_type": "stream",
          "text": [
            "<class 'int'>\n",
            "<class 'str'>\n"
          ],
          "name": "stdout"
        }
      ]
    },
    {
      "cell_type": "markdown",
      "metadata": {
        "id": "ci3OF-VMt-4V"
      },
      "source": [
        "## Задача 10"
      ]
    },
    {
      "cell_type": "markdown",
      "metadata": {
        "id": "ktkRn0kJuH5v"
      },
      "source": [
        "Чтобы посчитать какое-то выражение (например, 5 + 5, или 9 - 2/4 и т.д.) напишите это выражение и запустите ячейку. Знак \"+\" - это сложение, \"-\" - это вычитание, \"*\" - это умножение, \"/\" - это деление. Напишите любой собственный пример.\n"
      ]
    },
    {
      "cell_type": "code",
      "metadata": {
        "id": "laee75yhuHK3"
      },
      "source": [
        "# Ваше решение\n"
      ],
      "execution_count": null,
      "outputs": []
    },
    {
      "cell_type": "markdown",
      "metadata": {
        "id": "qSLhW8vjx3zI"
      },
      "source": [
        "### Решение"
      ]
    },
    {
      "cell_type": "code",
      "metadata": {
        "id": "otddV3n6x6e-",
        "colab": {
          "base_uri": "https://localhost:8080/"
        },
        "outputId": "b098d1d9-747b-4b8a-b63f-29f06f28a31d"
      },
      "source": [
        "# Разность 7 и произведения 2 на 2\n",
        "7 - 2*2"
      ],
      "execution_count": null,
      "outputs": [
        {
          "output_type": "execute_result",
          "data": {
            "text/plain": [
              "3"
            ]
          },
          "metadata": {
            "tags": []
          },
          "execution_count": 72
        }
      ]
    },
    {
      "cell_type": "code",
      "metadata": {
        "id": "tycMpH-pyk8W",
        "colab": {
          "base_uri": "https://localhost:8080/"
        },
        "outputId": "52b50922-9615-4c6c-aa6e-734b388423fb"
      },
      "source": [
        "# Сумма 3 и 2\n",
        "3 + 2"
      ],
      "execution_count": null,
      "outputs": [
        {
          "output_type": "execute_result",
          "data": {
            "text/plain": [
              "5"
            ]
          },
          "metadata": {
            "tags": []
          },
          "execution_count": 73
        }
      ]
    },
    {
      "cell_type": "markdown",
      "metadata": {
        "id": "AMSN9Go8yqbz"
      },
      "source": [
        "## Задача 11"
      ]
    },
    {
      "cell_type": "markdown",
      "metadata": {
        "id": "B_RT-FTYyxIp"
      },
      "source": [
        "Напишите логическое выражение (например, 6 > 5 или 4 <= 10) и запустите ячейку. Если выражение верное, то программа выведет слово True, если неверное False.\n"
      ]
    },
    {
      "cell_type": "code",
      "metadata": {
        "id": "xXIxxFVI0mOX"
      },
      "source": [
        "# Ваше решение\n"
      ],
      "execution_count": null,
      "outputs": []
    },
    {
      "cell_type": "markdown",
      "metadata": {
        "id": "4Wq5OY-z2K76"
      },
      "source": [
        "### Решение"
      ]
    },
    {
      "cell_type": "code",
      "metadata": {
        "id": "0DdHAY232Pro",
        "colab": {
          "base_uri": "https://localhost:8080/"
        },
        "outputId": "4b18d6bb-8025-40fb-bf60-72cda26cde94"
      },
      "source": [
        "# True, так как 5 больше 3\n",
        "5 > 3"
      ],
      "execution_count": null,
      "outputs": [
        {
          "output_type": "execute_result",
          "data": {
            "text/plain": [
              "True"
            ]
          },
          "metadata": {
            "tags": []
          },
          "execution_count": 75
        }
      ]
    },
    {
      "cell_type": "code",
      "metadata": {
        "id": "jNTDJXpL2TYh",
        "colab": {
          "base_uri": "https://localhost:8080/"
        },
        "outputId": "61e5d3ea-86db-4839-9578-c2cac618dd3f"
      },
      "source": [
        "# True, так как 6 не равно 9\n",
        "6 != 9"
      ],
      "execution_count": null,
      "outputs": [
        {
          "output_type": "execute_result",
          "data": {
            "text/plain": [
              "True"
            ]
          },
          "metadata": {
            "tags": []
          },
          "execution_count": 76
        }
      ]
    },
    {
      "cell_type": "code",
      "metadata": {
        "id": "3KzO92RC2Wg1",
        "colab": {
          "base_uri": "https://localhost:8080/"
        },
        "outputId": "d45682e2-ace1-4f1b-a53f-d8fa6f256fde"
      },
      "source": [
        "# False, так как 5 больше 4\n",
        "5 <= 4"
      ],
      "execution_count": null,
      "outputs": [
        {
          "output_type": "execute_result",
          "data": {
            "text/plain": [
              "False"
            ]
          },
          "metadata": {
            "tags": []
          },
          "execution_count": 77
        }
      ]
    },
    {
      "cell_type": "markdown",
      "metadata": {
        "id": "DnxHMqFYz8KQ"
      },
      "source": [
        "## Задача 12"
      ]
    },
    {
      "cell_type": "markdown",
      "metadata": {
        "id": "xBwwScaYVet-"
      },
      "source": [
        "Дети затеяли игру \"Казаки-разбойники\" по своим правилам. Следуя им, вы должны написать небольшую программу, которая будет вам помогать:\n",
        "* Если кол-во игроков будет нечётное, то выведите \"Пойду позову еще одного друга\"\n",
        "* Если кол-во игроков чётное, и принадлежит интервалу от 5 до 10 (вкл.), то выведите \"Начинаем игру\"\n",
        "* Если кол-во игроков чётное, но больше 10, то выведите \"Придётся разделиться на 2 группы\"\n",
        "* Если кол-во игроков чётное, но меньше 5, то выведите \"Зовём еще друзей!\"\n",
        "\n",
        "Используя функцию input, считайте кол-во игроков. Программа должна вывести результат проверки этого числа."
      ]
    },
    {
      "cell_type": "code",
      "metadata": {
        "id": "lxMkF1On01fA"
      },
      "source": [
        "# Ваше решение\n"
      ],
      "execution_count": null,
      "outputs": []
    },
    {
      "cell_type": "markdown",
      "metadata": {
        "id": "vsq3DQCM0r5J"
      },
      "source": [
        "### Решение"
      ]
    },
    {
      "cell_type": "code",
      "metadata": {
        "colab": {
          "base_uri": "https://localhost:8080/"
        },
        "id": "DQTFZxiJVet_",
        "outputId": "9b695982-7962-49c0-eb7b-2bc6b83f6291"
      },
      "source": [
        "# Запрос у пользователя числа игроков\n",
        "num = int(input())\n",
        "if num % 2 == 0:                          # Проверка четности числа\n",
        "    if 5 <= num <= 10:                    # Проверка принадлежности интервалу от 5 до 10\n",
        "        print('Начинаем игру')            # Вывод условия 'Начинаем игру'\n",
        "    elif num > 10:                        # Проверка условия о том, что количество игроков больше 10\n",
        "        # Вывод условия 'Придётся разделится на 2 группы'\n",
        "        print('Придётся разделится на 2 группы')\n",
        "    else:\n",
        "        print('Зовём еще друзей')         # Вывод условия 'Зовём еще друзей'\n",
        "else:\n",
        "    # Вывод условия 'Пойду позову еще одного друга'\n",
        "    print('Пойду позову еще одного друга')"
      ],
      "execution_count": null,
      "outputs": [
        {
          "output_type": "stream",
          "text": [
            "8\n",
            "Начинаем игру\n"
          ],
          "name": "stdout"
        }
      ]
    },
    {
      "cell_type": "markdown",
      "metadata": {
        "id": "8qghdd6F08pH"
      },
      "source": [
        "## Задача 13"
      ]
    },
    {
      "cell_type": "markdown",
      "metadata": {
        "id": "Ye5xZDrrVeuA"
      },
      "source": [
        "Вы читаете книжгу про Геракла и дошли до момента, где он сражается с Лернейской гидрой - монстром, что живёт в болоте. Подойдя к ней, Геракл увидел у неё 9 голов. Одним взмахом своего меча он отрубил ей все 9 голов, но на месте прошлых голов появилось в 2 раза больше (18). Потом он еще раз их отрубил, и теперь количество голов стало еще в 2 раза больше (36). Так он за один взмах меча отрубал все головы, которые у неё отрастали. Он сделал 6 взмахов своим большим мечом, прежде, чем понял, как её убить. А сколько всего он отрубил ей голов?\n",
        "\n",
        "*Используя цикл while, посчитайте сколько всего голов отрубил Геракл гидре, если за каждый взмах меча он отрубает все головы, а каждая голова заменяется двумя другими. Взмахов меча он сделал 6. Изначально у гидры было 9 голов.*"
      ]
    },
    {
      "cell_type": "code",
      "metadata": {
        "id": "GObedZry1nhn"
      },
      "source": [
        "# Ваше решение\n"
      ],
      "execution_count": null,
      "outputs": []
    },
    {
      "cell_type": "markdown",
      "metadata": {
        "id": "lWdAVNqQVeuA"
      },
      "source": [
        "### Решение:"
      ]
    },
    {
      "cell_type": "code",
      "metadata": {
        "colab": {
          "base_uri": "https://localhost:8080/"
        },
        "id": "dMKIjNIDVeuB",
        "outputId": "819d7aa9-524f-477e-83d5-d9a7296cad97"
      },
      "source": [
        "i = 0                                     # Количество взмахов\n",
        "heads = 9                                 # Количество голов\n",
        "cut_heads = 0                             # Количество отрубленных голов\n",
        "while i < 6:                              # Пока количество взмахов меньше 6\n",
        "    cut_heads += heads                    # Увеличение количества отрубленных голов вдвое\n",
        "    heads *= 2                            # Увеличение голов гидры вдвое\n",
        "    i += 1                                # Увеличение количества взмахов на 1\n",
        "print(cut_heads)                          # Вывод результата"
      ],
      "execution_count": null,
      "outputs": [
        {
          "output_type": "stream",
          "text": [
            "567\n"
          ],
          "name": "stdout"
        }
      ]
    },
    {
      "cell_type": "markdown",
      "metadata": {
        "id": "puuINSDI1tA2"
      },
      "source": [
        "## Задача 14"
      ]
    },
    {
      "cell_type": "markdown",
      "metadata": {
        "id": "AgDE2WzRVeuB"
      },
      "source": [
        "Мама попросила вас каждый день записывать, сколько страниц в день читаете. Вы это сделали, но теперь не знаете, как посчитать, сколько прочитали страниц за всё время, ведь книги вы читали разные.\n",
        "\n",
        "*Используя цикл for пройдите по списку и посчитайте суммарное кол-во страниц, которые вы прочитали за всё время. (Использовать встроенные функции sum, len,sort и т.д запрещено)*"
      ]
    },
    {
      "cell_type": "code",
      "metadata": {
        "id": "vr1DTBVeVeuC"
      },
      "source": [
        "page_nums = [52, 12, 64, 324, 75, 32, 64, 12, 7, 31, 56, 12, 34, 1, 3, 73, 2]"
      ],
      "execution_count": null,
      "outputs": []
    },
    {
      "cell_type": "code",
      "metadata": {
        "id": "M_vKpn6zpL-Q"
      },
      "source": [
        "# Ваше решение\n"
      ],
      "execution_count": null,
      "outputs": []
    },
    {
      "cell_type": "markdown",
      "metadata": {
        "id": "P_G-JQqXVeuC"
      },
      "source": [
        "### Решение:"
      ]
    },
    {
      "cell_type": "code",
      "metadata": {
        "colab": {
          "base_uri": "https://localhost:8080/"
        },
        "id": "1ZHT0Qt8VeuD",
        "outputId": "fa0310e7-69c8-4b79-9e34-76d04ff68923"
      },
      "source": [
        "pages = 0                                 # Количество страниц\n",
        "for i in page_nums:                       # Перебор всех значений списка\n",
        "    pages += i                            # Добавление значения к сумме страниц\n",
        "pages                                     # Вывод результата"
      ],
      "execution_count": null,
      "outputs": [
        {
          "output_type": "execute_result",
          "data": {
            "text/plain": [
              "854"
            ]
          },
          "metadata": {
            "tags": []
          },
          "execution_count": 88
        }
      ]
    },
    {
      "cell_type": "markdown",
      "metadata": {
        "id": "Zho634yCtIzW"
      },
      "source": [
        "## Задача 15"
      ]
    },
    {
      "cell_type": "markdown",
      "metadata": {
        "id": "alYA12S8VeuD"
      },
      "source": [
        "Вы посчитали, сколько прочитали страниц, но решили похвастаться, сколько можете прочитать за один день. Но самому трудно определить, какое количество страниц в записях было наибольшим.\n",
        "\n",
        "Используя цикл for пройдите по списку page_nums, который был определен выше, и найдите наибольшее число прочитанных страниц. (Использовать встроенные функции max, min и т.д запрещено)\n",
        "\n",
        "*например, для списка [4,1,5,2,2] наибольшее число - 5*"
      ]
    },
    {
      "cell_type": "code",
      "metadata": {
        "id": "ZTnBS5gFo9K7"
      },
      "source": [
        "# Ваше решение\n"
      ],
      "execution_count": null,
      "outputs": []
    },
    {
      "cell_type": "markdown",
      "metadata": {
        "id": "eSM6iL-DVeuE"
      },
      "source": [
        "### Решение"
      ]
    },
    {
      "cell_type": "code",
      "metadata": {
        "colab": {
          "base_uri": "https://localhost:8080/"
        },
        "id": "DGKySTG7VeuE",
        "outputId": "f9a54cd4-ca17-48b7-f56d-acdae5c6e39b"
      },
      "source": [
        "page = page_nums[0]                       # Выбор первого значения в списке наибольшим\n",
        "for i in page_nums:                       # Перебор значений списка\n",
        "    if i > page:                          # Проверка условия: если текущее значение больше\n",
        "        page = i                          # Присвоение максимальному элементу текущего\n",
        "page                                      # Вывод результата"
      ],
      "execution_count": null,
      "outputs": [
        {
          "output_type": "execute_result",
          "data": {
            "text/plain": [
              "324"
            ]
          },
          "metadata": {
            "tags": []
          },
          "execution_count": 90
        }
      ]
    },
    {
      "cell_type": "markdown",
      "metadata": {
        "id": "vlZDAfMwVeuF"
      },
      "source": [
        "## Задача 16"
      ]
    },
    {
      "cell_type": "markdown",
      "metadata": {
        "id": "B6Rbug_qvbSF"
      },
      "source": [
        "Чтобы точно быть в курсе всех прочитанных и недочитанных книг, создайте словарь, который будет хранить в себе название книги(ключ), которую вы читаете, и кол-во страниц (значение), которое вы прочитали.\n",
        "Вы читали: \"Приключение Тома Сойера\" - 133 страницы, \"Малыш и Карлсон\" - 62 страницы, \"Война и мир\" - 5 страниц, \"Сказка о рыбаке и рыбке\" - 15 страниц.\n",
        "\n",
        "После определённого периода вы начали читать новую книжку - \"Колобок\", где прочитали только 10 страниц. Так как у вас уже был создан словарь, добавьте в него новую книжку с его значением.\n",
        "\n",
        "*Создайте словарь, который будет соответствовать заданным условиям. Используя метод .update дополните ваш словарь новой книгой, которая указана выше.*"
      ]
    },
    {
      "cell_type": "code",
      "metadata": {
        "id": "qhP7evOWo48E"
      },
      "source": [
        "# Ваше решение\n"
      ],
      "execution_count": null,
      "outputs": []
    },
    {
      "cell_type": "markdown",
      "metadata": {
        "id": "BGl26Yh6VeuF"
      },
      "source": [
        "### Решение"
      ]
    },
    {
      "cell_type": "code",
      "metadata": {
        "id": "HQ9M680vVeuG",
        "colab": {
          "base_uri": "https://localhost:8080/"
        },
        "outputId": "0aef1883-49d7-428a-dc66-df24a35d16c8"
      },
      "source": [
        "# Создание словаря с заданными значениями\n",
        "book_dict = {'Приключение Тома Сойера': 133, 'Малыш и Карлсон': 62, 'Война и мир': 5, 'Сказка о рыбаке и рыбке': 15}\n",
        "print(book_dict)                          # Вывод словаря\n",
        "book_dict.update({'Колобок':10})          # Добавление в словарь новой пары \"ключ-значение\"\n",
        "print(book_dict)                          # Вывод обновленного словаря"
      ],
      "execution_count": null,
      "outputs": [
        {
          "output_type": "stream",
          "text": [
            "{'Приключение Тома Сойера': 133, 'Малыш и Карлсон': 62, 'Война и мир': 5, 'Сказка о рыбаке и рыбке': 15}\n",
            "{'Приключение Тома Сойера': 133, 'Малыш и Карлсон': 62, 'Война и мир': 5, 'Сказка о рыбаке и рыбке': 15, 'Колобок': 10}\n"
          ],
          "name": "stdout"
        }
      ]
    },
    {
      "cell_type": "markdown",
      "metadata": {
        "id": "IW0IMLaUykun"
      },
      "source": [
        "## Задача 17"
      ]
    },
    {
      "cell_type": "markdown",
      "metadata": {
        "id": "z3SNcAHaygHd"
      },
      "source": [
        "Напишите программу , которая запрашивает у пользователя длинную строку, содержащую несколько слов. Выведите на экран исходную строку, в которой слова идут в обратном порядке.\n",
        "*Например: My name is Michele - Michele is name My*"
      ]
    },
    {
      "cell_type": "code",
      "metadata": {
        "id": "3UZ9zpxIs5ct"
      },
      "source": [
        "# Ваше решение\n"
      ],
      "execution_count": null,
      "outputs": []
    },
    {
      "cell_type": "markdown",
      "metadata": {
        "id": "EaGP0aiCyy-S"
      },
      "source": [
        "### Решение"
      ]
    },
    {
      "cell_type": "code",
      "metadata": {
        "colab": {
          "base_uri": "https://localhost:8080/"
        },
        "id": "aCRdJoK0U_Ch",
        "outputId": "fe27efea-c9c0-4139-d98d-99f4b8f5d46e"
      },
      "source": [
        "a = 'My name is Michele'                  # Строка\n",
        "' '.join(a.split()[::-1])                 # Вывод строки наоборот"
      ],
      "execution_count": null,
      "outputs": [
        {
          "output_type": "execute_result",
          "data": {
            "application/vnd.google.colaboratory.intrinsic+json": {
              "type": "string"
            },
            "text/plain": [
              "'Michele is name My'"
            ]
          },
          "metadata": {
            "tags": []
          },
          "execution_count": 94
        }
      ]
    },
    {
      "cell_type": "markdown",
      "metadata": {
        "id": "7SybeRpoy2lr"
      },
      "source": [
        "## Задача 18"
      ]
    },
    {
      "cell_type": "markdown",
      "metadata": {
        "id": "i9XSF0qEvBbx"
      },
      "source": [
        "Бригадиру нужно посчитать количество деталей, которые сделала бригада за рабочий день. Каждый работник передает бригадиру список, в котором он в течение дня записывал количество готовых деталей.\n",
        "\n",
        "\n",
        "*   spisok_1 = [1,2,4,2,4,5,2,3,2]\n",
        "*   spisok_2 = [4,2,3,2,1,4,2,5,2,5]\n",
        "*   spisok_3 = [2,4,1,2,4,5,4,5]\n",
        "\n",
        "Используя цикл for посчитайте количество деталей сделанных за день."
      ]
    },
    {
      "cell_type": "code",
      "metadata": {
        "id": "XgpuTgMrt1hL"
      },
      "source": [
        "# Ваше решение\n"
      ],
      "execution_count": null,
      "outputs": []
    },
    {
      "cell_type": "markdown",
      "metadata": {
        "id": "k5-pzuYcy64e"
      },
      "source": [
        "### Решение"
      ]
    },
    {
      "cell_type": "code",
      "metadata": {
        "colab": {
          "base_uri": "https://localhost:8080/"
        },
        "id": "40We9JvTuwPR",
        "outputId": "297a8bd2-8b0e-4dec-ca1a-afe9d2744a26"
      },
      "source": [
        "\n",
        "spisok_1 = [1,2,4,2,4,5,2,3,2]            # Список первого рабочего\n",
        "spisok_2 = [4,2,3,2,1,4,2,5,2,5]          # Список второго рабочего\n",
        "spisok_3 = [2,4,1,2,4,5,4,5]              # Список третьего рабочего\n",
        "\n",
        "new_list = spisok_1 + spisok_2 + spisok_3 # Объединенный список\n",
        "s = 0                                     # Общее количество деталей\n",
        "\n",
        "for i in new_list:                        # Перебор всех значений списка\n",
        "  # Увеличение общего количества деталей на текущее значение списка\n",
        "  s += i\n",
        "print(s)                                  # Вывод результата"
      ],
      "execution_count": null,
      "outputs": [
        {
          "output_type": "stream",
          "text": [
            "82\n"
          ],
          "name": "stdout"
        }
      ]
    },
    {
      "cell_type": "markdown",
      "metadata": {
        "id": "XAFaC9Vyy-MS"
      },
      "source": [
        "## Задача 19"
      ]
    },
    {
      "cell_type": "markdown",
      "metadata": {
        "id": "2RoBHe74FzoY"
      },
      "source": [
        "Посчитайте сумму всех четных чисел от 0 до 30."
      ]
    },
    {
      "cell_type": "code",
      "metadata": {
        "id": "-SDIrNHduxYx"
      },
      "source": [
        "# Ваше решение"
      ],
      "execution_count": null,
      "outputs": []
    },
    {
      "cell_type": "markdown",
      "metadata": {
        "id": "pI8pjqLCzCiq"
      },
      "source": [
        "### Решение"
      ]
    },
    {
      "cell_type": "code",
      "metadata": {
        "colab": {
          "base_uri": "https://localhost:8080/"
        },
        "id": "fmzZGnOWE7ID",
        "outputId": "bb695525-eeba-4e6d-be41-c1b198134d80"
      },
      "source": [
        "s = 0                                     # Переменная для хранения суммы\n",
        "for i in range(0, 30, 2):                 # Перебор элементов списка с шагом 2\n",
        "  s += i                                  # Увеличение суммы на каждый второй элемент\n",
        "print(s)                                  # Вывод результата"
      ],
      "execution_count": null,
      "outputs": [
        {
          "output_type": "stream",
          "text": [
            "210\n"
          ],
          "name": "stdout"
        }
      ]
    },
    {
      "cell_type": "markdown",
      "metadata": {
        "id": "5SUagE_JycNA"
      },
      "source": [
        "## Задача 20"
      ]
    },
    {
      "cell_type": "markdown",
      "metadata": {
        "id": "cyIWrQ3xHaJr"
      },
      "source": [
        "Несколько человек собрались играть в карточную игру. Правила следующие: игроки по очереди тянут 3 карты. Для победы в этой игре сумма очков за набранные карты должна быть минимальна.<br>\n",
        "Напишите функцию, возвращающую количество очков у игрока-победителя. Количество очков за младшие карты равно их номиналу, а за старшие - от 11 до 14 за карты от валета до туза ('J', 'Q', 'K', 'A') соответственно.<br>\n",
        "Игроки собрали карты, указанные в следующем списке (i-ый элемент списка содержит набор карт i-го игрока):<br>\n",
        "[['A', 'J', '2'], ['10', '10', '7'], ['J', 'J', '3'], ['4', 'A', 'A'], ['6', '7', 'A']].<br>\n",
        "Cколько очков набрал победивший игрок?"
      ]
    },
    {
      "cell_type": "code",
      "metadata": {
        "id": "Cu9sUA9jG0c5"
      },
      "source": [
        "# Список карт каждого из игроков\n",
        "hands_list = [['A', 'J', '2'], ['10', '10', '7'], ['J', 'J', '3'], ['4', 'A', 'A'], ['6', '7', 'A']]"
      ],
      "execution_count": null,
      "outputs": []
    },
    {
      "cell_type": "code",
      "metadata": {
        "id": "8tbCnPEMwumW"
      },
      "source": [
        "# Ваше решение\n"
      ],
      "execution_count": null,
      "outputs": []
    },
    {
      "cell_type": "markdown",
      "metadata": {
        "id": "1WLbHWIOzWDU"
      },
      "source": [
        "### Решение"
      ]
    },
    {
      "cell_type": "code",
      "metadata": {
        "id": "LS1r68t-rDLD"
      },
      "source": [
        "# Словарь, содержащий значения старших карт\n",
        "mapping = {'J': 11, 'Q': 12, 'K': 13, 'A': 14}\n",
        "\n",
        "# Функция подсчёта суммы в списке карт\n",
        "# Возвращает сумму карт текущего списка\n",
        "def calculate_sum(cards_list):\n",
        "    sum = 0                                   # Переменная для хранения суммы\n",
        "    for card in cards_list:                   # Перебор карт в списке\n",
        "        try:\n",
        "            # Если младшая карта, значение можно преобразовать в тип int\n",
        "            points = int(card)\n",
        "        except:\n",
        "            # Если старшая карта, значение  берется из словаря\n",
        "            points = mapping[card]\n",
        "        sum += points                         # Увеличиваем сумму на текущее значение\n",
        "    return sum\n",
        "\n",
        "# Функция нахождения игрока с минимальной суммой карт\n",
        "# Возвращает минимальный элемент из списка, содержащего суммы карт каждого игрока\n",
        "def calculate_min(hands_list):\n",
        "    # Создание списка, содержащего суммы карт каждого игрока\n",
        "    sums_list = [calculate_sum(cards_list) for cards_list in hands_list]\n",
        "    return min(sums_list)"
      ],
      "execution_count": null,
      "outputs": []
    },
    {
      "cell_type": "code",
      "metadata": {
        "colab": {
          "base_uri": "https://localhost:8080/"
        },
        "id": "ZjyehJ4NrgmQ",
        "outputId": "d51e4469-49d9-4c4d-c0ee-6e4797ff8a0f"
      },
      "source": [
        "print(calculate_min(hands_list))              # Вызов функции нахождения победителя"
      ],
      "execution_count": null,
      "outputs": [
        {
          "output_type": "stream",
          "text": [
            "25\n"
          ],
          "name": "stdout"
        }
      ]
    },
    {
      "cell_type": "markdown",
      "metadata": {
        "id": "kc9jUBqLzbis"
      },
      "source": [
        "## Задача 21"
      ]
    },
    {
      "cell_type": "markdown",
      "metadata": {
        "id": "1fdOJOEaF51B"
      },
      "source": [
        "Из заданной последовательности сохраните четные числа в список, и посчитайте его длину."
      ]
    },
    {
      "cell_type": "code",
      "metadata": {
        "id": "SEaZ3NyHzoq7"
      },
      "source": [
        "# Список чисел\n",
        "num = [386, 462, 47, 418, 907, 344, 375, 823,\n",
        "       566, 328, 626, 949, 687, 248, 6, 7, 14]"
      ],
      "execution_count": null,
      "outputs": []
    },
    {
      "cell_type": "code",
      "metadata": {
        "id": "YLfodjNVzuht"
      },
      "source": [
        "# Ваше решение\n"
      ],
      "execution_count": null,
      "outputs": []
    },
    {
      "cell_type": "markdown",
      "metadata": {
        "id": "-K6l-FJ4zk-v"
      },
      "source": [
        "### Решение"
      ]
    },
    {
      "cell_type": "code",
      "metadata": {
        "colab": {
          "base_uri": "https://localhost:8080/"
        },
        "id": "KwgykOkoFkwe",
        "outputId": "d0a329c3-b090-4fce-eda8-641d2d74efd7"
      },
      "source": [
        "a = []                                    # Создание списка для хранения четных чисел\n",
        "for i in num:                             # Перебор значений заданного списка\n",
        "  if i % 2 == 0:                          # Проверка условия четности\n",
        "    a.append(i)                           # Добавление четных элементов в список\n",
        "\n",
        "print('Четные числа: ',a)                 # Вывод списка с четными элементами\n",
        "print('Длина полученного списка:',len(a)) # Вывод количества элементов получившегося списка"
      ],
      "execution_count": null,
      "outputs": [
        {
          "output_type": "stream",
          "text": [
            "Четные числа:  [386, 462, 418, 344, 566, 328, 626, 248, 6, 14]\n",
            "Длина полученного списка: 10\n"
          ],
          "name": "stdout"
        }
      ]
    },
    {
      "cell_type": "markdown",
      "metadata": {
        "id": "OxJVowf6zrSe"
      },
      "source": [
        "## Задача 22"
      ]
    },
    {
      "cell_type": "markdown",
      "metadata": {
        "id": "EKV8HM2jUjKo"
      },
      "source": [
        "Напишите программу, которая считывает со стандартного ввода целые числа, по одному числу в строке, и после первого введенного нуля выводит сумму полученных на вход чисел.\n",
        "\n",
        "*Например: для последовательности 5, 2, 1, 0 результат должен быть 8*"
      ]
    },
    {
      "cell_type": "markdown",
      "metadata": {
        "id": "2p2byj-XzwK0"
      },
      "source": [
        "### Решение"
      ]
    },
    {
      "cell_type": "code",
      "metadata": {
        "colab": {
          "base_uri": "https://localhost:8080/"
        },
        "id": "we5sRTW6UjKp",
        "outputId": "c7b2699d-4ffe-4282-bcfd-373685b24dd6"
      },
      "source": [
        "count = 0                                 # Переменная для хранения суммы\n",
        "# Переменная для введенных чисел, равна 1 для захода в цикл while\n",
        "inp = 1\n",
        "\n",
        "while inp != 0:                           # Пока введенное число не равно 0\n",
        "    inp = int(input())                    # Запрос у пользователя нового числа\n",
        "    count += inp                          # Увеличение суммы на введенное число\n",
        "else: print(count)                        # Вывод результата\n"
      ],
      "execution_count": null,
      "outputs": [
        {
          "output_type": "stream",
          "text": [
            "5\n",
            "2\n",
            "1\n",
            "0\n",
            "8\n"
          ],
          "name": "stdout"
        }
      ]
    },
    {
      "cell_type": "markdown",
      "metadata": {
        "id": "tZpXAXfGz1BW"
      },
      "source": [
        "## Задача 23"
      ]
    },
    {
      "cell_type": "markdown",
      "metadata": {
        "id": "gLXe5jsFIk4o"
      },
      "source": [
        "Вы находитесь в отпуске в городе Майами и вам необходимо посчитать на каком такси будет дешевле доехать из Аэропорта до Отеля.\n",
        "На каком такси будет дешевле доехать до отеля?\n",
        "*Посчитайте с помощью Python сумму для всех перевозчиков такси и выберите самый дешевый вариант.*\n",
        "\n",
        "*   Uber - От Аэропорта до Отеля проездка стоит 15 долларов + налог 3 доллара, плюс чаевые 10%;\n",
        "*   Lyft - От Аэропорта до Отеля поездка стоит 14 долларов + налог 2.5 доллара, плюс чаевые 8%;\n",
        "*   Hailo - От Аэропорта до Отеля поездка стоит 16 долларов + налог 3.5 доллара, плюс чаевые 9%;\n",
        "*   Easy Taxi - От Аэропорта до Отеля поездка стоит 20 долларов + налог 5 долларов, плюс чаевые 12%;\n",
        "*   Gett - От Аэропорта до Отеля поездка стоит 17 долларов + налог 4 долларов, плюс чаевые 11%\n",
        "\n",
        "*С помощью функции round, необходимо округлить число до одного знака после запятой.*\n",
        "\n",
        "\n"
      ]
    },
    {
      "cell_type": "markdown",
      "metadata": {
        "id": "o7cK6b_7z7sM"
      },
      "source": [
        "### Решение"
      ]
    },
    {
      "cell_type": "code",
      "metadata": {
        "colab": {
          "base_uri": "https://localhost:8080/"
        },
        "id": "JSQ8OIgoISiA",
        "outputId": "28b75154-e7f8-4406-8aec-c3e85c0dc397"
      },
      "source": [
        "# Расчет поездки на такси Uber\n",
        "road = 15                                  # Стоимость поездки\n",
        "tax = 3                                    # Налог\n",
        "tips = 10                                  # Чаевые\n",
        "# Общая стоимость поездки\n",
        "price_uber = (road + tax) * (1 + (tips/100))\n",
        "# Вывод результата\n",
        "print('Стоимость поездки на такси Uber:', round(price_uber, 1))"
      ],
      "execution_count": null,
      "outputs": [
        {
          "output_type": "stream",
          "text": [
            "Стоимость поездки на такси Uber: 19.8\n"
          ],
          "name": "stdout"
        }
      ]
    },
    {
      "cell_type": "code",
      "metadata": {
        "colab": {
          "base_uri": "https://localhost:8080/"
        },
        "id": "d0hQ4DoQMCAl",
        "outputId": "6b841dc4-9b28-413f-b3b1-f3de28432cda"
      },
      "source": [
        "# Расчет поездки на такси Lyft\n",
        "road = 14                                  # Стоимость поездки\n",
        "tax = 2.5                                  # Налог\n",
        "tips = 8                                   # Чаевые\n",
        "# Общая стоимость поездки\n",
        "price_lyft = (road + tax) * (1 + (tips/100))\n",
        "# Вывод результата\n",
        "print('Стоимость поездки на такси Lyft:', round(price_lyft, 1))"
      ],
      "execution_count": null,
      "outputs": [
        {
          "output_type": "stream",
          "text": [
            "Стоимость поездки на такси Lyft: 17.8\n"
          ],
          "name": "stdout"
        }
      ]
    },
    {
      "cell_type": "code",
      "metadata": {
        "colab": {
          "base_uri": "https://localhost:8080/"
        },
        "id": "kQ654JlHMCW2",
        "outputId": "2605be0e-e33d-4f9a-c658-13cbe90f8927"
      },
      "source": [
        "# Расчет поездки на такси Hailo\n",
        "road = 16                                  # Стоимость поездки\n",
        "tax = 3.5                                  # Налог\n",
        "tips = 9                                   # Чаевые\n",
        "# Общая стоимость поездки\n",
        "price_hailo = (road + tax) * (1 + (tips/100))\n",
        "# Вывод результата\n",
        "print('Стоимость поездки на такси Hailo:', round(price_hailo, 1))"
      ],
      "execution_count": null,
      "outputs": [
        {
          "output_type": "stream",
          "text": [
            "Стоимость поездки на такси Hailo: 21.3\n"
          ],
          "name": "stdout"
        }
      ]
    },
    {
      "cell_type": "code",
      "metadata": {
        "colab": {
          "base_uri": "https://localhost:8080/"
        },
        "id": "IuFCNDGXMCem",
        "outputId": "027777f8-85bc-49c0-9b82-0b7d0dbb2665"
      },
      "source": [
        "# Расчет поездки на такси Easy Taxi\n",
        "road = 20                                  # Стоимость поездки\n",
        "tax = 5                                    # Налог\n",
        "tips = 12                                  # Чаевые\n",
        "# Общая стоимость поездки\n",
        "price_easy = (road + tax) * (1 + (tips/100))\n",
        "# Вывод результата\n",
        "print('Стоимость поездки на такси Easy Taxi:', round(price_easy, 1))"
      ],
      "execution_count": null,
      "outputs": [
        {
          "output_type": "stream",
          "text": [
            "Стоимость поездки на такси Easy Taxi: 28.0\n"
          ],
          "name": "stdout"
        }
      ]
    },
    {
      "cell_type": "code",
      "metadata": {
        "colab": {
          "base_uri": "https://localhost:8080/"
        },
        "id": "kOzrkJkjMCnf",
        "outputId": "7ec4a670-5ba3-4b53-e17e-71a8d89c189e"
      },
      "source": [
        "# Расчет поездки на такси Gett\n",
        "road = 17                                  # Стоимость поездки\n",
        "tax = 4                                    # Налог\n",
        "tips = 11                                  # Чаевые\n",
        "# Общая стоимость поездки\n",
        "price_gett = (road + tax) * (1 + (tips/100))\n",
        "# Вывод результата\n",
        "print('Стоимость поездки на такси Easy Taxi:', round(price_gett, 1))"
      ],
      "execution_count": null,
      "outputs": [
        {
          "output_type": "stream",
          "text": [
            "Стоимость поездки на такси Easy Taxi: 23.3\n"
          ],
          "name": "stdout"
        }
      ]
    },
    {
      "cell_type": "markdown",
      "metadata": {
        "id": "c-KU0nAGMgbC"
      },
      "source": [
        "##Задача 24"
      ]
    },
    {
      "cell_type": "markdown",
      "metadata": {
        "id": "aqD-82Gp0KjC"
      },
      "source": [
        "Дан список фамилий:\n",
        "\n",
        "    Иванов, Петров, Андреев, Сидоров, Яшин, Смирнов\n",
        "\n",
        "Отсортируйте их в алфавитном порядке.\n"
      ]
    },
    {
      "cell_type": "code",
      "metadata": {
        "id": "klDThUhfFD5q"
      },
      "source": [
        "# Список фамилий\n",
        "name = ['Иванов', 'Петров', 'Андреев', 'Сидоров', 'Яшин', 'Смирнов']"
      ],
      "execution_count": null,
      "outputs": []
    },
    {
      "cell_type": "code",
      "metadata": {
        "id": "dR34iykCFHfu"
      },
      "source": [
        "# Ваше решение\n"
      ],
      "execution_count": null,
      "outputs": []
    },
    {
      "cell_type": "markdown",
      "metadata": {
        "id": "OHrV7iCY0R9Q"
      },
      "source": [
        "### Решение"
      ]
    },
    {
      "cell_type": "code",
      "metadata": {
        "colab": {
          "base_uri": "https://localhost:8080/"
        },
        "id": "VUEQvcPGO3ds",
        "outputId": "72c75755-2c83-40e6-c2c3-f31a7307b387"
      },
      "source": [
        "name.sort()                                # Сортировка списка\n",
        "print(name)                                # Вывод результата"
      ],
      "execution_count": null,
      "outputs": [
        {
          "output_type": "stream",
          "text": [
            "['Андреев', 'Иванов', 'Петров', 'Сидоров', 'Смирнов', 'Яшин']\n"
          ],
          "name": "stdout"
        }
      ]
    },
    {
      "cell_type": "markdown",
      "metadata": {
        "id": "6XbLf7XVULEF"
      },
      "source": [
        "## Задача 25\n",
        "\n",
        "\n",
        "\n",
        "\n"
      ]
    },
    {
      "cell_type": "markdown",
      "metadata": {
        "id": "Po4VlX400cj2"
      },
      "source": [
        "Напишите код, который находит расстояние между двумя точками на плоскости по координатам этих точек. Найдите расстояние между точками с координатами (2,4) и (7,11) и округлите ответ до десятых."
      ]
    },
    {
      "cell_type": "code",
      "metadata": {
        "id": "Bf8lVqyJF1Tm"
      },
      "source": [
        "# Ваше решение\n"
      ],
      "execution_count": null,
      "outputs": []
    },
    {
      "cell_type": "markdown",
      "metadata": {
        "id": "ew3KwMxQ0eAe"
      },
      "source": [
        "### Решение"
      ]
    },
    {
      "cell_type": "code",
      "metadata": {
        "colab": {
          "base_uri": "https://localhost:8080/"
        },
        "id": "XfbbKYBwrQJF",
        "outputId": "5a8b4489-7fef-49c0-97a4-844ba61d4496"
      },
      "source": [
        "from math import sqrt                     # Импорт квадратного корня\n",
        "a = (2, 4)                                # Координаты первой точки\n",
        "b = (7, 11)                               # Координаты второй точки\n",
        "# Расчет расстояния между точками\n",
        "dist = sqrt((a[0] - b[0])**2 + (a[1] - b[1])**2)\n",
        "dist                                      # Вывод результата"
      ],
      "execution_count": null,
      "outputs": [
        {
          "output_type": "execute_result",
          "data": {
            "text/plain": [
              "8.602325267042627"
            ]
          },
          "metadata": {
            "tags": []
          },
          "execution_count": 116
        }
      ]
    },
    {
      "cell_type": "markdown",
      "metadata": {
        "id": "pRPV39EYB-Go"
      },
      "source": [
        "## Задача 26"
      ]
    },
    {
      "cell_type": "markdown",
      "metadata": {
        "id": "Mpi53zDGH87t"
      },
      "source": [
        "С помощью цикла for выведите на экран все четные числа от 1 до 10 (можно воспользоваться заданием шага цикла)"
      ]
    },
    {
      "cell_type": "code",
      "metadata": {
        "id": "7g8LhVZCIag1"
      },
      "source": [
        "# Ваше решение\n"
      ],
      "execution_count": null,
      "outputs": []
    },
    {
      "cell_type": "markdown",
      "metadata": {
        "id": "L_N745HdIZcE"
      },
      "source": [
        "### Решение"
      ]
    },
    {
      "cell_type": "code",
      "metadata": {
        "id": "K5BA998sIY6r",
        "colab": {
          "base_uri": "https://localhost:8080/"
        },
        "outputId": "90521476-4e0a-458d-ec2e-6cca410ca9f0"
      },
      "source": [
        "# Создание последовательности от 2 до 10 (11 не включается) с шагом 2\n",
        "for i in range(2, 11, 2):\n",
        "  print(i) # Вывод на экран значения i"
      ],
      "execution_count": null,
      "outputs": [
        {
          "output_type": "stream",
          "text": [
            "2\n",
            "4\n",
            "6\n",
            "8\n",
            "10\n"
          ],
          "name": "stdout"
        }
      ]
    },
    {
      "cell_type": "markdown",
      "metadata": {
        "id": "wuP2HCLoI1c1"
      },
      "source": [
        "## Задача 27"
      ]
    },
    {
      "cell_type": "markdown",
      "metadata": {
        "id": "Ho8GyjovI6iA"
      },
      "source": [
        "Создайте список, в котором будут перечислены времена года.\n",
        "\n",
        "Создайте переменную с именем nomer (присвойте ей произвольное значение (можно просто 0)).\n",
        "\n",
        "Используя цикл for, пройдите по всем элементам списка. На каждом шаге увеличивайте значение переменной nomer на 1. Как только попадется элемент со значением \"Лето\" - выведите на экран переменную nomer.\n",
        "\n",
        "После выхода из цикла с помощью функции print() выведите значение пременной nomer."
      ]
    },
    {
      "cell_type": "code",
      "metadata": {
        "id": "pqE3EA1VKHxb"
      },
      "source": [
        "# Ваше решение\n"
      ],
      "execution_count": null,
      "outputs": []
    },
    {
      "cell_type": "markdown",
      "metadata": {
        "id": "8yKYxCcaKH37"
      },
      "source": [
        "### Решение"
      ]
    },
    {
      "cell_type": "code",
      "metadata": {
        "id": "JlIMV1ZYI6By",
        "colab": {
          "base_uri": "https://localhost:8080/"
        },
        "outputId": "7e7d518c-8c41-4bd6-bcce-945495fffccc"
      },
      "source": [
        "# Создание списка с временами года\n",
        "seasons = ['Зима', 'Весна', 'Лето', 'Осень']\n",
        "nomer = 0                                   # Создание переменной nomer\n",
        "for i in seasons:                           # Перебор всех элементов списка\n",
        "  nomer += 1                                # Увеличение переменной на 1\n",
        "  if i == 'Лето':                           # Проверка текущего элемента на соответствие условию\n",
        "    print(nomer)                            # Вывод значения переменной nomer на экран"
      ],
      "execution_count": null,
      "outputs": [
        {
          "output_type": "stream",
          "text": [
            "3\n"
          ],
          "name": "stdout"
        }
      ]
    },
    {
      "cell_type": "markdown",
      "metadata": {
        "id": "UQB45sUgnc2M"
      },
      "source": [
        "## Задача 28"
      ]
    },
    {
      "cell_type": "markdown",
      "metadata": {
        "id": "KePuItIvniek"
      },
      "source": [
        "Создайте две переменные с произвольными именами (выберите сами). В первую переменную запишите ваш возраст, во вторую текущий год (2020). С помощью функции print() выведите год вашего рождения."
      ]
    },
    {
      "cell_type": "code",
      "metadata": {
        "id": "UBE1AYlDnfoi"
      },
      "source": [
        "# Ваше решение"
      ],
      "execution_count": null,
      "outputs": []
    },
    {
      "cell_type": "markdown",
      "metadata": {
        "id": "uyAaTBwVof5g"
      },
      "source": [
        "### Решение"
      ]
    },
    {
      "cell_type": "code",
      "metadata": {
        "id": "PEYdjE1eoKLN",
        "colab": {
          "base_uri": "https://localhost:8080/"
        },
        "outputId": "c34b52c3-8a53-4dc9-fa10-7a874d07dda0"
      },
      "source": [
        "                                          3\n",
        "vozrast = 32                              # Создание переменной с возрастом\n",
        "god = 2021                                # Создание переменной с текущим годом\n",
        "print(god - vozrast)                      # Вывод года рождения"
      ],
      "execution_count": null,
      "outputs": [
        {
          "output_type": "stream",
          "text": [
            "1989\n"
          ],
          "name": "stdout"
        }
      ]
    },
    {
      "cell_type": "markdown",
      "metadata": {
        "id": "CIdw2t0F2i4x"
      },
      "source": [
        "## Задача 29"
      ]
    },
    {
      "cell_type": "markdown",
      "metadata": {
        "id": "qmvnMkXu4tH1"
      },
      "source": [
        "Создайте список month месяцев года.\n",
        "\n",
        "Создайте список season времен года.\n",
        "\n",
        "Выведите списки на экран.\n",
        "\n",
        "Используя созданные списки month и season, создайте словарь year, где ключи словаря - времена года, а значения ключей - списки месяцев для каждого времени. Обращением к ключу созданного словаря выведите все месяцы лета.\n"
      ]
    },
    {
      "cell_type": "markdown",
      "metadata": {
        "id": "vWalS0MW2oPK"
      },
      "source": [
        "### Решение"
      ]
    },
    {
      "cell_type": "code",
      "metadata": {
        "colab": {
          "base_uri": "https://localhost:8080/"
        },
        "id": "ZvYAbBzw2dU-",
        "outputId": "5ce6c340-64a7-47d7-f70b-ab5d2f2cc0a5"
      },
      "source": [
        "# Создание словаря с месяцами\n",
        "month = ['декабрь', 'январь', 'февраль', 'март', 'апрель', 'май', 'июнь', 'июль', 'август', 'сентябрь', 'октябрь', 'ноябрь']\n",
        "# Создание словаря с временами года\n",
        "season = ['Зима', 'Весна', 'Лето', 'Осень']\n",
        "# Вывод словарей\n",
        "print(month)\n",
        "print(season)"
      ],
      "execution_count": null,
      "outputs": [
        {
          "output_type": "stream",
          "text": [
            "['декабрь', 'январь', 'февраль', 'март', 'апрель', 'май', 'июнь', 'июль', 'август', 'сентябрь', 'октябрь', 'ноябрь']\n",
            "['Зима', 'Весна', 'Лето', 'Осень']\n"
          ],
          "name": "stdout"
        }
      ]
    },
    {
      "cell_type": "code",
      "metadata": {
        "id": "v4E53GevAWF-",
        "colab": {
          "base_uri": "https://localhost:8080/"
        },
        "outputId": "ea24c755-0ca7-4f6a-a9f3-ee1e0e9ab812"
      },
      "source": [
        "year = {}                                 # Создание пустого словаря\n",
        "for i in range(3, len(month)+1, 3):       # Перебор значений первого словаря по три значения\n",
        "    # Составление нового словаря с заданным условием\n",
        "    year.update({season[i//3-1]:month[i-3:i]})\n",
        "year                                      # Вывод результата"
      ],
      "execution_count": null,
      "outputs": [
        {
          "output_type": "execute_result",
          "data": {
            "text/plain": [
              "{'Весна': ['март', 'апрель', 'май'],\n",
              " 'Зима': ['декабрь', 'январь', 'февраль'],\n",
              " 'Лето': ['июнь', 'июль', 'август'],\n",
              " 'Осень': ['сентябрь', 'октябрь', 'ноябрь']}"
            ]
          },
          "metadata": {
            "tags": []
          },
          "execution_count": 9
        }
      ]
    },
    {
      "cell_type": "code",
      "metadata": {
        "colab": {
          "base_uri": "https://localhost:8080/"
        },
        "id": "RCvn7EDxB9dZ",
        "outputId": "d21128ae-1c86-4161-9e4c-11e8b6c19057"
      },
      "source": [
        "year['Лето']"
      ],
      "execution_count": null,
      "outputs": [
        {
          "output_type": "execute_result",
          "data": {
            "text/plain": [
              "['июнь', 'июль', 'август']"
            ]
          },
          "metadata": {
            "tags": []
          },
          "execution_count": 10
        }
      ]
    },
    {
      "cell_type": "markdown",
      "metadata": {
        "id": "FnO0d_P4_TMm"
      },
      "source": [
        "## Задача 30"
      ]
    },
    {
      "cell_type": "markdown",
      "metadata": {
        "id": "ufSs8d_QTlD0"
      },
      "source": [
        "Вы решили узнать, как у компьютера может загружаться память и подумали, что можно вывести результат его внутренней памяти таким образом:\n",
        "\n",
        "*Вывод должен быть таким*\n",
        "\n",
        "0\n",
        "\n",
        "1 0 0\n",
        "\n",
        "2 1 1 0 0\n",
        "\n",
        "3 2 2 1 1 0 0\n",
        "\n",
        "4 3 3 2 2 1 1 0 0\n",
        "\n",
        "5 4 4 3 3 2 2 1 1 0 0\n",
        "\n",
        "*Выведите такую последовательность строк. (Забивать вручную нельзя)*\n"
      ]
    },
    {
      "cell_type": "code",
      "metadata": {
        "id": "uYRm7OXpQIn5"
      },
      "source": [
        "# Ваше решение\n"
      ],
      "execution_count": null,
      "outputs": []
    },
    {
      "cell_type": "markdown",
      "metadata": {
        "id": "a0nWIPEQTlD7"
      },
      "source": [
        "### Решение"
      ]
    },
    {
      "cell_type": "code",
      "metadata": {
        "id": "wr2TJpHETlD8",
        "colab": {
          "base_uri": "https://localhost:8080/"
        },
        "outputId": "59c43263-df0c-4b60-c1ca-3df63b7f617e"
      },
      "source": [
        "num = '0'                                 # Создание строки с одним символом \"0\"\n",
        "for i in range(6):                        # Перебор значений от 0 до 5 включительно\n",
        "    print(num)                            # Вывод строки\n",
        "    # Преобразование текущей строки для соответствия условию\n",
        "    num = str(i+1) + ' ' + str(i) + ' ' + num"
      ],
      "execution_count": null,
      "outputs": [
        {
          "output_type": "stream",
          "text": [
            "0\n",
            "1 0 0\n",
            "2 1 1 0 0\n",
            "3 2 2 1 1 0 0\n",
            "4 3 3 2 2 1 1 0 0\n",
            "5 4 4 3 3 2 2 1 1 0 0\n"
          ],
          "name": "stdout"
        }
      ]
    },
    {
      "cell_type": "markdown",
      "metadata": {
        "id": "7RLcox7m_k77"
      },
      "source": [
        "## Задача 31"
      ]
    },
    {
      "cell_type": "markdown",
      "metadata": {
        "id": "Oap_08J0Wap6"
      },
      "source": [
        "В школьной столовой  один полноценный обед стоит 120 рублей. Вы решили с ребятами скинуться на общий обед, но у вас только 1000 рублей. Чтобы понять, сколько вам нужно потратить и сколько обедов вы получите, вы выводите таблицу стоимостей и количества обедов, что вы получите. Максимальное количество обедов - 10.\n",
        "\n",
        "Вывод должен быть таким\n",
        "\n",
        "1 * 120 = 120\n",
        "\n",
        "2 * 120 = 240\n",
        "\n",
        ".....\n",
        "\n",
        "9 * 120 = 1080\n",
        "\n",
        "10 * 120 = 1200\n",
        "\n",
        "*Выведите такую последовательность строк.*\n"
      ]
    },
    {
      "cell_type": "code",
      "metadata": {
        "id": "0eD6VDW3RIse"
      },
      "source": [
        "# Ваше решение\n"
      ],
      "execution_count": null,
      "outputs": []
    },
    {
      "cell_type": "markdown",
      "metadata": {
        "id": "mxNeJKfwWap7"
      },
      "source": [
        "### Решение"
      ]
    },
    {
      "cell_type": "code",
      "metadata": {
        "id": "WpM7iDuUWap7",
        "colab": {
          "base_uri": "https://localhost:8080/"
        },
        "outputId": "1cacf925-7919-4583-92d8-2405d977bf35"
      },
      "source": [
        "for i in range(11):                       # Перебор значений от 0 до 10\n",
        "    # Вывод заданного выражения\n",
        "    print('{} * {} = {}'.format(i, 120, i * 120))"
      ],
      "execution_count": null,
      "outputs": [
        {
          "output_type": "stream",
          "text": [
            "0 * 120 = 0\n",
            "1 * 120 = 120\n",
            "2 * 120 = 240\n",
            "3 * 120 = 360\n",
            "4 * 120 = 480\n",
            "5 * 120 = 600\n",
            "6 * 120 = 720\n",
            "7 * 120 = 840\n",
            "8 * 120 = 960\n",
            "9 * 120 = 1080\n",
            "10 * 120 = 1200\n"
          ],
          "name": "stdout"
        }
      ]
    },
    {
      "cell_type": "markdown",
      "metadata": {
        "id": "Xw1KUIxt_5Ma"
      },
      "source": [
        "## Задача 32"
      ]
    },
    {
      "cell_type": "markdown",
      "metadata": {
        "id": "-V6N2GW_g3SE"
      },
      "source": [
        "Представьте, что вам приходят 2 письма: первое письмо с чеком-зарплатой, второе письмо со счётом квартплаты. Считайте с входящей строки 2 числа - salary и rent. Проверьте условия введённых значений. Если у вас зарплата меньше, чем квартплата, то выведите на экран строку \"Ошибка! Или меняйте работу, или меняйте место жительства!\". В противном случае проверяйте: Если разница зарплаты и квартплаты 15-30 тысяч, то выводите на экран: \"Можно жить спокойно\". Если разница больше, чем 30 тысяч, то выводите \"Можно брать ипотеку!)\". В противном случае выводите \"В этом месяце живём на макаронах....\"."
      ]
    },
    {
      "cell_type": "code",
      "metadata": {
        "id": "ZVUvH6doS3b8"
      },
      "source": [
        "# Ваше решение\n"
      ],
      "execution_count": null,
      "outputs": []
    },
    {
      "cell_type": "markdown",
      "metadata": {
        "id": "LpsSV2UCuO5G"
      },
      "source": [
        "### Решение"
      ]
    },
    {
      "cell_type": "code",
      "metadata": {
        "id": "H8F17i8uuO5H",
        "colab": {
          "base_uri": "https://localhost:8080/"
        },
        "outputId": "f3d06a7b-f6e3-437d-d7c1-28621d913500"
      },
      "source": [
        "salary = int(input())                     # Запрос у пользователя первого числа\n",
        "rent = int(input())                       # Запрос у пользователя второго числа\n",
        "if salary >= rent:                        # Сравнение зарплаты и квартплаты\n",
        "    diff = salary - rent                  # Вычисление разности зарплаты и квартплаты\n",
        "    if 150000 <= diff <= 30000:           # Если разность находится в заданном пределе\n",
        "        print('Можно жить спокойно')      # Вывод соответствующего сообщения\n",
        "    elif diff > 30000:                    # Если разность больше\n",
        "        print('Можно брать ипотеку!)')    # Вывод соответствующего сообщения\n",
        "    else:\n",
        "        # Вывод соответствующего сообщения\n",
        "        print('В этом месяце живём на макаронах....')\n",
        "else:\n",
        "    # Вывод соответствующего сообщения\n",
        "    print('Ошибка! Или меняйте работу, или меняйте место жительства!')"
      ],
      "execution_count": null,
      "outputs": [
        {
          "output_type": "stream",
          "text": [
            "18000\n",
            "34000\n",
            "Ошибка! Или меняйте работу, или меняйте место жительства!\n"
          ],
          "name": "stdout"
        }
      ]
    },
    {
      "cell_type": "markdown",
      "metadata": {
        "id": "YpiGAYmEAGkW"
      },
      "source": [
        "## Задача 33"
      ]
    },
    {
      "cell_type": "markdown",
      "metadata": {
        "id": "h1nWKZlty4Go"
      },
      "source": [
        "Найдите среднее арифметическое всех четных чисел в списке\n",
        "\n",
        "\n",
        "my_list = [36, 76, 59, 11, 84, 86, 70, 32, 16,  7, 91, 25, 35, 94, 57, 77, 18, 42, 44, 69, 65, 30, 90, 78, 47, 78, 95, 58,  1, 95]\n",
        "\n"
      ]
    },
    {
      "cell_type": "code",
      "metadata": {
        "id": "E7sKXtAiTXRl"
      },
      "source": [
        "my_list = [36, 76, 59, 11, 84, 86, 70, 32, 16, 7, 91, 25, 35, 94, 57, 77, 18, 42, 44, 69, 65, 30, 90, 78, 47, 78, 95, 58, 1, 95]"
      ],
      "execution_count": null,
      "outputs": []
    },
    {
      "cell_type": "code",
      "metadata": {
        "id": "rLl5gMxLTYKq"
      },
      "source": [
        "# Ваше решение\n"
      ],
      "execution_count": null,
      "outputs": []
    },
    {
      "cell_type": "markdown",
      "metadata": {
        "id": "tkBJaS7EARkI"
      },
      "source": [
        "### Решение"
      ]
    },
    {
      "cell_type": "code",
      "metadata": {
        "colab": {
          "base_uri": "https://localhost:8080/"
        },
        "id": "d7MTMooeysAt",
        "outputId": "184d862b-2432-4d45-b314-43dcec23a414"
      },
      "source": [
        "s = []                                    # Создание пустого списка для четных чисел\n",
        "for i in my_list:                         # Перебор элементов заданного списка\n",
        "  if i % 2 == 0:                          # Проверка четности элемента\n",
        "    s.append(i)                           # Добавление в список четных чисел\n",
        "summa = sum(s)/len(s)                     # Нахождение среднего арифметического\n",
        "print(summa)                              # Вывод результата"
      ],
      "execution_count": null,
      "outputs": [
        {
          "output_type": "stream",
          "text": [
            "58.25\n"
          ],
          "name": "stdout"
        }
      ]
    },
    {
      "cell_type": "markdown",
      "metadata": {
        "id": "12IhNQzdAafH"
      },
      "source": [
        "## Задача 34"
      ]
    },
    {
      "cell_type": "markdown",
      "metadata": {
        "id": "bvtdbKD5WVKU"
      },
      "source": [
        "Напишите код с помощью циклов, который находит остаток от деления одного числа на другое. Нельзя пользоваться операторами деления и нахождения остатка. Для пар чисел из списка numbers найдите сумму остатков от деления первого числа в каждой паре на второе.\n",
        "\n",
        "\n"
      ]
    },
    {
      "cell_type": "code",
      "metadata": {
        "id": "wgnQA2Y5WVKV"
      },
      "source": [
        "numbers=[(29,3),(500,11),(754,33),(22,9),(117,55),(220,20),(375,31),(189,13)]"
      ],
      "execution_count": null,
      "outputs": []
    },
    {
      "cell_type": "code",
      "metadata": {
        "id": "ZCSC5kyEUzPH"
      },
      "source": [
        "# Ваше решение\n"
      ],
      "execution_count": null,
      "outputs": []
    },
    {
      "cell_type": "markdown",
      "metadata": {
        "id": "aaLBK7TWAhMl"
      },
      "source": [
        "### Решение"
      ]
    },
    {
      "cell_type": "code",
      "metadata": {
        "colab": {
          "base_uri": "https://localhost:8080/"
        },
        "id": "lYnEwbTLWVKW",
        "outputId": "5acf5747-ebde-43e3-ce57-3167fa3b47b9"
      },
      "source": [
        "sum = 0                                   # Сумма всех остатков\n",
        "for pair in numbers:                      # Перебор всех пар\n",
        "  i = 0\n",
        "  # Увеличение i на 1 до тех пор, пока произведение i на делитель не станет\n",
        "  # отличаться от делимого на число, меньшее или равное делителю\n",
        "  while (i + 1)*pair[1] <= pair[0]:\n",
        "    i += 1\n",
        "  sum += pair[0] - i*pair[1]              # Добавление остатка к сумме\n",
        "sum                                       # Вывод результата"
      ],
      "execution_count": null,
      "outputs": [
        {
          "output_type": "execute_result",
          "data": {
            "text/plain": [
              "56"
            ]
          },
          "metadata": {
            "tags": []
          },
          "execution_count": 150
        }
      ]
    },
    {
      "cell_type": "markdown",
      "metadata": {
        "id": "t7C6Aw_PAyyO"
      },
      "source": [
        "## Задача 35"
      ]
    },
    {
      "cell_type": "markdown",
      "metadata": {
        "id": "_Vy8qx7hIWR8"
      },
      "source": [
        "В строю стоят 20 солдат по росту. Рост первого 195 см, а остальные на 1 см меньше предыдущего (195, 194, 193 и т.д.). Посчитайте каким по счету стоит солдат, рост которого 183 см (можно посчитать при помощи циклов)."
      ]
    },
    {
      "cell_type": "markdown",
      "metadata": {
        "id": "c8-B31QsA3tN"
      },
      "source": [
        "### Решение"
      ]
    },
    {
      "cell_type": "code",
      "metadata": {
        "colab": {
          "base_uri": "https://localhost:8080/"
        },
        "id": "cLB04xQCJiZu",
        "outputId": "12fc7504-3038-4336-dd39-8d769ec444f0"
      },
      "source": [
        "a = 0                                     # Номер солдата\n",
        "for i in range(195, 175, -1):             # Перебор значений роста каждого солдата\n",
        "    a += 1                                # Увеличение счетчика солдат\n",
        "    if i == 183:                          # Проверка выполнения заданного условия\n",
        "        print('Солдат по счету', a)       # Вывод номера этого солдата"
      ],
      "execution_count": null,
      "outputs": [
        {
          "output_type": "stream",
          "text": [
            "Солдат по счету 13\n"
          ],
          "name": "stdout"
        }
      ]
    },
    {
      "cell_type": "markdown",
      "metadata": {
        "id": "BUunxqEbA-Cv"
      },
      "source": [
        "## Задача 36"
      ]
    },
    {
      "cell_type": "markdown",
      "metadata": {
        "id": "AUw4sK2YV2_7"
      },
      "source": [
        "Вы - тренер футбольной команды и по результатам сезона решили наградить игроков, забивших не менее 60 голов. Используя исходный словарь, создайте словарь с игроками, которых следует наградить, и в бланк ответа внесите суммарное количество голов, которое забили эти игроки.\n"
      ]
    },
    {
      "cell_type": "code",
      "metadata": {
        "id": "toD6SKD3YKTb"
      },
      "source": [
        "# Исходный словарь\n",
        "scores = {'Lionel Messi': 75,\n",
        "          'Zlatan Ibrahimovic': 58,\n",
        "          'Robert Lewandowski': 33,\n",
        "          'Cristiano Ronaldo': 28,\n",
        "          'Karim Benzema': 62,\n",
        "          'Vasili Berezutski': 1,\n",
        "          'Neymar': 70,\n",
        "          'Edinson Cavani':45,\n",
        "          'Toni Kroos': 13,\n",
        "          'Thiago Silva': 20,\n",
        "          'Gianluigi Buffon': 0}"
      ],
      "execution_count": null,
      "outputs": []
    },
    {
      "cell_type": "code",
      "metadata": {
        "id": "-EY4ZRbnYZyO"
      },
      "source": [
        "# Ваше решение\n"
      ],
      "execution_count": null,
      "outputs": []
    },
    {
      "cell_type": "markdown",
      "metadata": {
        "id": "VoKs-AmLBEJ3"
      },
      "source": [
        "### Решение"
      ]
    },
    {
      "cell_type": "code",
      "metadata": {
        "colab": {
          "base_uri": "https://localhost:8080/"
        },
        "id": "-A8HGvkkz4BQ",
        "outputId": "dc9f6cd0-d695-4c80-c9ed-757f3f2eaed9"
      },
      "source": [
        "print(\"Игроки, забившие не менее 60 голов:\")\n",
        "# Отбор игроков, забивших не менее 60 голов\n",
        "filtered_dictionary = {key:value for (key, value) in scores.items() if value >= 60}\n",
        "# Вывод игроков, забивших не менее 60 голов\n",
        "print(filtered_dictionary)\n",
        "sum = 0\n",
        "# Перебор всех значений словаря\n",
        "for (key, value) in filtered_dictionary.items():\n",
        "    # Увеличение суммы на текущее значение\n",
        "    sum += value\n",
        "# Вывод результата\n",
        "print('Суммарное количество голов этих игроков: ', sum)"
      ],
      "execution_count": null,
      "outputs": [
        {
          "output_type": "stream",
          "text": [
            "Игроки, забившие не менее 60 голов:\n",
            "{'Lionel Messi': 75, 'Karim Benzema': 62, 'Neymar': 70}\n",
            "Суммарное количество голов этих игроков:  207\n"
          ],
          "name": "stdout"
        }
      ]
    },
    {
      "cell_type": "markdown",
      "metadata": {
        "id": "BhYX52n1A1Q4"
      },
      "source": [
        "## Задача 37"
      ]
    },
    {
      "cell_type": "markdown",
      "metadata": {
        "id": "maW8NFCPA5NF"
      },
      "source": [
        "\"Теорема пифагора\"\n",
        "\n",
        "С помощью функции input() попросите пользователя ввести длину первого катета и сохраните значение в переменной katet1.\n",
        "\n",
        "С помощью функции input() попросите пользователя ввести длину второго катета и сохраните значение в переменной katet2.\n",
        "\n",
        "Создайте переменную gipotenusa и запишите в него значение, которое расчитывается по правилу: квадрат гипотенузы равен сумме квадратов катетов.\n",
        "\n",
        "Выведите на экран значение гипотенузы."
      ]
    },
    {
      "cell_type": "code",
      "metadata": {
        "id": "3xUDjYT9Az8j"
      },
      "source": [
        "# Ваше решение"
      ],
      "execution_count": null,
      "outputs": []
    },
    {
      "cell_type": "markdown",
      "metadata": {
        "id": "Dur7g9_zLVyD"
      },
      "source": [
        "### Решение"
      ]
    },
    {
      "cell_type": "code",
      "metadata": {
        "id": "7mxvqOcoLXAb",
        "colab": {
          "base_uri": "https://localhost:8080/"
        },
        "outputId": "5f8add44-e6ba-4dd1-ab58-6b6234da4020"
      },
      "source": [
        "# Запрос у пользователя длины первого катета\n",
        "katet1 = int(input(\"Введите длину первого катета: \"))\n",
        "# Запрос у пользователя длины второго катета\n",
        "katet2 = int(input(\"Введите длину второго катета: \"))\n",
        "# Расчет значения гипотенузы. ( ** 2 - квадрат числа, ** 0.5 - корень числа)\n",
        "gipotenusa = (katet1**2 + katet2**2)**0.5\n",
        "# Вывод результата\n",
        "print(gipotenusa)"
      ],
      "execution_count": null,
      "outputs": [
        {
          "output_type": "stream",
          "name": "stdout",
          "text": [
            "Введите длину первого катета: 4\n",
            "Введите длину второго катета: 5\n",
            "6.4031242374328485\n"
          ]
        }
      ]
    },
    {
      "cell_type": "markdown",
      "metadata": {
        "id": "b_qKzJz_OD9u"
      },
      "source": [
        "## Задача 38"
      ]
    },
    {
      "cell_type": "markdown",
      "metadata": {
        "id": "p0Bx7fsKL_0N"
      },
      "source": [
        "Создайте список с животными китайского гороскопа (12 штук).\n",
        "\n",
        "Попросите пользователя ввести год его рождения.\n",
        "\n",
        "Ваша задача в ответном сообщении с помощью функции print() сказать пользователю, кто он по гороскопу."
      ]
    },
    {
      "cell_type": "code",
      "metadata": {
        "id": "a3KMRTl2L3t9"
      },
      "source": [
        "# Ваше решение\n"
      ],
      "execution_count": null,
      "outputs": []
    },
    {
      "cell_type": "markdown",
      "metadata": {
        "id": "u0SWT3hKM3H7"
      },
      "source": [
        "### Решение"
      ]
    },
    {
      "cell_type": "code",
      "metadata": {
        "id": "MRva9XhyM4Hh",
        "colab": {
          "base_uri": "https://localhost:8080/"
        },
        "outputId": "9a328f99-0499-445d-8568-59c79fd2616e"
      },
      "source": [
        "# Создание списка с животными гороскопа\n",
        "goroskop = ['Крыса', 'Бык', 'Тигр', 'Кролик', 'Дракон', 'Змея', 'Лошадь', 'Коза', 'Обезьяна', 'Петух', 'Собака', 'Свинья']\n",
        "# Запрос у пользователя года рождения\n",
        "god = int(input('Введите год Вашего рождения: '))\n",
        "# Животные размещены в списке таким образом, что нужно вычесть число 4 и взять остаток от деления на 12\n",
        "index = (god - 4) % 12\n",
        "# Вывод результата\n",
        "print(goroskop[index])"
      ],
      "execution_count": null,
      "outputs": [
        {
          "output_type": "stream",
          "text": [
            "Введите год Вашего рождения: 1989\n",
            "Змея\n"
          ],
          "name": "stdout"
        }
      ]
    },
    {
      "cell_type": "markdown",
      "metadata": {
        "id": "sFXGOJa2oqeS"
      },
      "source": [
        "## Задача 39"
      ]
    },
    {
      "cell_type": "markdown",
      "metadata": {
        "id": "PTUuWjVno0gs"
      },
      "source": [
        "1. Создайте список, в котором будут храниться цвета радуги (красный, оранжевый, желтый, зеленый, голубой, синий, фиолетовый).\n",
        "2. С помощью функции input попросите пользователя ввести число от 0 до 6.\n",
        "3. С помощью функции int() преобразуйте введенный пользователем символ в число\n",
        "4. С помощью функции print выведите цвет радуги под номером, который ввел пользователь."
      ]
    },
    {
      "cell_type": "code",
      "metadata": {
        "id": "GVZS9lt3ou0M"
      },
      "source": [
        "# Ваше решение\n"
      ],
      "execution_count": null,
      "outputs": []
    },
    {
      "cell_type": "markdown",
      "metadata": {
        "id": "gnCmFieaqjJL"
      },
      "source": [
        "### Решение"
      ]
    },
    {
      "cell_type": "code",
      "metadata": {
        "id": "mwC4aSDepaP8",
        "colab": {
          "base_uri": "https://localhost:8080/"
        },
        "outputId": "65e20782-e28e-4cc7-8838-ae3a9a2549ca"
      },
      "source": [
        "# Создание списка цветов\n",
        "spisok = ['красный', 'оранжевый', 'желтый', 'зеленый', 'голубий', 'синий', 'фиолетовый']\n",
        "# Запрос у пользователя числа\n",
        "symbol = input ('Введите число от 0 до 6: ')\n",
        "# Изменене типа введенных данных\n",
        "chislo = int(symbol)\n",
        "# Вывод результата\n",
        "print(spisok[chislo])"
      ],
      "execution_count": null,
      "outputs": [
        {
          "output_type": "stream",
          "text": [
            "Введите число от 0 до 6: 5\n",
            "синий\n"
          ],
          "name": "stdout"
        }
      ]
    },
    {
      "cell_type": "code",
      "metadata": {
        "id": "LJOOl8UYrUSe",
        "colab": {
          "base_uri": "https://localhost:8080/"
        },
        "outputId": "fa043c2d-d952-4424-93e2-0fde85b7fdec"
      },
      "source": [
        "# Можно сразу так\n",
        "spisok = ['красный', 'оранжевый', 'желтый', 'зеленый', 'голубий', 'синий', 'фиолетовый']\n",
        "symbol = int(input ('Введите число от 0 до 6: '))\n",
        "print(spisok[symbol])"
      ],
      "execution_count": null,
      "outputs": [
        {
          "output_type": "stream",
          "text": [
            "Введите число от 0 до 6: 6\n",
            "фиолетовый\n"
          ],
          "name": "stdout"
        }
      ]
    },
    {
      "cell_type": "markdown",
      "metadata": {
        "id": "hH0VuCir95xi"
      },
      "source": [
        "## Задача 40"
      ]
    },
    {
      "cell_type": "markdown",
      "metadata": {
        "id": "15dqaN9SBrlv"
      },
      "source": [
        "Напишите программу, которой на вход будет подаваться число от 0 до 9 при помощи input(). На выходе должно выводиться сообщение с текстовым написанием этого числа(0 - ноль, 1 - один, 2 - два и т.д.)"
      ]
    },
    {
      "cell_type": "code",
      "metadata": {
        "id": "Xapy2TyPE5Mx"
      },
      "source": [
        "# Ваше решение\n"
      ],
      "execution_count": null,
      "outputs": []
    },
    {
      "cell_type": "markdown",
      "metadata": {
        "id": "Tjbe8Ym_FM2N"
      },
      "source": [
        "### Решение"
      ]
    },
    {
      "cell_type": "code",
      "metadata": {
        "id": "2aapPFN3BqB5",
        "colab": {
          "base_uri": "https://localhost:8080/"
        },
        "outputId": "4a043d4b-f92b-4dbf-fb8f-5750648a9702"
      },
      "source": [
        "# Запрос у пользователя числа\n",
        "N = int(input('Введите число от 1 до 9: '))\n",
        "# Список буквенных обозначений цифр\n",
        "list_str = ['ноль', 'один', 'два', 'три', 'четыре', 'пять', 'шесть', 'семь', 'восемь', 'девять']\n",
        "# Вывод результата\n",
        "print('Ваше число', list_str[N])"
      ],
      "execution_count": null,
      "outputs": [
        {
          "output_type": "stream",
          "text": [
            "Введите число от 1 до 9: 2\n",
            "Ваше число два\n"
          ],
          "name": "stdout"
        }
      ]
    },
    {
      "cell_type": "markdown",
      "metadata": {
        "id": "ZLYwxOWG1s1i"
      },
      "source": [
        "## Задача 41"
      ]
    },
    {
      "cell_type": "markdown",
      "metadata": {
        "id": "Xb_HTOjk9wco"
      },
      "source": [
        "Создайте список my_list, состоящий из целых чисел от 0 до 20 включительно. Найдите четные и нечетные числа в этом списке.  \n",
        "Создайте словарь my_dict, в котором по ключам even и odd будут доступны соответственно четные и нечетные числа из списка my_list."
      ]
    },
    {
      "cell_type": "code",
      "metadata": {
        "id": "I_DEQywUf0q8"
      },
      "source": [
        "# Ваше решение\n"
      ],
      "execution_count": null,
      "outputs": []
    },
    {
      "cell_type": "markdown",
      "metadata": {
        "id": "cU6y-oNlFtjd"
      },
      "source": [
        "### Решение"
      ]
    },
    {
      "cell_type": "code",
      "metadata": {
        "colab": {
          "base_uri": "https://localhost:8080/"
        },
        "id": "tmbZk_Mo7SX3",
        "outputId": "af29c006-d68c-463d-9046-4e51a7bc8083"
      },
      "source": [
        "my_list = [i for i in range(21)]          # Создание списка от 0 до 20\n",
        "\n",
        "my_dict = dict()                          # Создание словаря\n",
        "even = []                                 # Создание списка для хранения четных чисел\n",
        "odd = []                                  # Создание списка для хранения нечетных чисел\n",
        "\n",
        "for i in my_list:                         # Перебор значений списка\n",
        "    if i % 2 == 0:                        # Проверка четности\n",
        "        even.append(i)                    # Добавление в список четных чисел\n",
        "    else:                                 #\n",
        "        odd.append(i)                     # Добавление в список нечетных чисел\n",
        "\n",
        "my_dict['even'] = even                    # Добавление в словарь списка четных чисел\n",
        "my_dict['odd'] = odd                      # Добавление в словарь списка нечетных чисел\n",
        "\n",
        "print(my_dict['even'])                    # Вывод результатов\n",
        "print(my_dict['odd'])"
      ],
      "execution_count": null,
      "outputs": [
        {
          "output_type": "stream",
          "text": [
            "[0, 2, 4, 6, 8, 10, 12, 14, 16, 18, 20]\n",
            "[1, 3, 5, 7, 9, 11, 13, 15, 17, 19]\n"
          ],
          "name": "stdout"
        }
      ]
    },
    {
      "cell_type": "markdown",
      "metadata": {
        "id": "ayN-vi33CtDw"
      },
      "source": [
        "## Задача 42"
      ]
    },
    {
      "cell_type": "markdown",
      "metadata": {
        "id": "N1l7xXHImXqq"
      },
      "source": [
        "Возьмите список list_1 = [1, 2, 3, 4, 5, 6, 7, 8, 9, 10]. В цикле создайте новый список, используя текущий, но только из четных значений, где значения стоят в обратном порядке от большего к меньшему."
      ]
    },
    {
      "cell_type": "code",
      "metadata": {
        "id": "zf099WoHf-sl"
      },
      "source": [
        "# Список\n",
        "list_1 = [1, 2, 3, 4, 5, 6, 7, 8, 9, 10]"
      ],
      "execution_count": null,
      "outputs": []
    },
    {
      "cell_type": "code",
      "metadata": {
        "id": "OYeZgEoLgBxJ"
      },
      "source": [
        "# Ваше решение\n"
      ],
      "execution_count": null,
      "outputs": []
    },
    {
      "cell_type": "markdown",
      "metadata": {
        "id": "RsFoGCY7CyRX"
      },
      "source": [
        "### Решение"
      ]
    },
    {
      "cell_type": "code",
      "metadata": {
        "colab": {
          "base_uri": "https://localhost:8080/"
        },
        "id": "WpOOSrQimXqr",
        "outputId": "b2f9f3f9-1c88-4618-f0b4-9e9fffcbeec0"
      },
      "source": [
        "list_2 = []                               # Создание пустого списка\n",
        "for i in range(len(list_1), 1, -2):       # Перебор значений списка в обратном порядке с шагом 2\n",
        "  list_2.append(i)                        # Добавление значений в новый список\n",
        "list_2                                    # Вывод результата"
      ],
      "execution_count": null,
      "outputs": [
        {
          "output_type": "execute_result",
          "data": {
            "text/plain": [
              "[10, 8, 6, 4, 2]"
            ]
          },
          "metadata": {
            "tags": []
          },
          "execution_count": 191
        }
      ]
    },
    {
      "cell_type": "markdown",
      "metadata": {
        "id": "VwY2jdBuC--f"
      },
      "source": [
        "## Задача 43"
      ]
    },
    {
      "cell_type": "markdown",
      "metadata": {
        "id": "hSV5ZZBygvpW"
      },
      "source": [
        "Сгенерируйте случайное число от 1 до 9 (включая 1 и 9) при помощи `rd = np.random.randint(1, 9)`. Попросите пользователя угадать число, а затем скажите ему, угадал ли он число, ошибся в меньшую сторону или в большую.\n",
        "\n"
      ]
    },
    {
      "cell_type": "code",
      "metadata": {
        "id": "oBK9ezjygnKX"
      },
      "source": [
        "# Ваше решение\n"
      ],
      "execution_count": null,
      "outputs": []
    },
    {
      "cell_type": "markdown",
      "metadata": {
        "id": "tUQRbg98DCjT"
      },
      "source": [
        "### Решение"
      ]
    },
    {
      "cell_type": "code",
      "metadata": {
        "id": "mtGx7oiNsVRw",
        "colab": {
          "base_uri": "https://localhost:8080/"
        },
        "outputId": "b2114386-a70b-4d57-a1c3-dd75cf53fe56"
      },
      "source": [
        "import numpy as np\n",
        "\n",
        "rd = np.random.randint(1, 10)             # Создание случайного числа от 1 до 9\n",
        "guess = 0                                 # Переменная для взаимодействия с пользователем\n",
        "c = 0\n",
        "while guess != rd and guess != \"exit\":    # Пока переменная не равна заданному числу или выходу из игры\n",
        "    # Запрос у пользователя нового числа\n",
        "    guess = input(\"Enter a guess between 1 to 9 \")\n",
        "    if guess == \"exit\":                   # Выход, если переменная равна окончанию игры\n",
        "        break\n",
        "\n",
        "    guess = int(guess)                    # Изменение типа введенных данных\n",
        "    c += 1\n",
        "\n",
        "    if guess < rd:                        # Если введенное число меньше загаданного\n",
        "        print(\"Too low\")                  # Вывод соответствующего сообщения\n",
        "    elif guess > rd:                      # Если введенное число больше\n",
        "        print(\"Too high\")                 # Выводы соответствующих сообщений\n",
        "    else:\n",
        "        print(\"Right!\")\n",
        "        print(\"You took only\", c, \"tries!\")"
      ],
      "execution_count": null,
      "outputs": [
        {
          "output_type": "stream",
          "text": [
            "Enter a guess between 1 to 9 5\n",
            "Right!\n",
            "You took only 1 tries!\n"
          ],
          "name": "stdout"
        }
      ]
    },
    {
      "cell_type": "markdown",
      "metadata": {
        "id": "NHfU59uJDJ9a"
      },
      "source": [
        "## Задача 44"
      ]
    },
    {
      "cell_type": "markdown",
      "metadata": {
        "id": "FqFzoi4kk7AM"
      },
      "source": [
        "Вы являетесь руководителем отдела в крупной корпорации и список ваших сотрудников и их возрастов хранится в словаре initial_dict. За время вашего отпуска заместитель нанял некоторое количество новых людей и вся информацию о сотрудниках отдела теперь находится в словаре new_dict. Вам нужно знать имена новых людей. В окно для ответа введите список новых сотрудников, отсортированный по алфавиту.\n",
        "\n"
      ]
    },
    {
      "cell_type": "code",
      "metadata": {
        "id": "r_jJLwfFHkFy"
      },
      "source": [
        "# Исходный словарь\n",
        "initial_dict = {'Юлия Кононова': 22, 'Анна Николаева': 21, 'Валерия Никифорова': 24, 'Андрей Гончаров': 28,\n",
        "                'Игорь Заварухин': 20, 'Андрей Светлов': 22, 'Марина Подоляк': 20, 'Юлия Савичева':21,\n",
        "                'Анастасия Кузнецова': 23, 'Павел Макаров': 24, 'Евгения Кузнецова': 26}\n",
        "# Новый словарь\n",
        "new_dict = {'Юлия Кононова': 22, 'Светлана Петрова': 23, 'Анна Николаева': 21, 'Валерия Никифорова': 24,\n",
        "            'Андрей Гончаров': 28,'Игорь Заварухин': 20,'Валерия Иванова': 21, 'Андрей Светлов': 22,\n",
        "            'Марина Подоляк': 20,'Андрей Петров': 24, 'Юлия Савичева':21,'Анастасия Кузнецова': 23,\n",
        "            'Павел Макаров': 24, 'Евгения Кузнецова': 26}"
      ],
      "execution_count": null,
      "outputs": []
    },
    {
      "cell_type": "code",
      "metadata": {
        "id": "rNQOWQ0Bl9oG"
      },
      "source": [
        "# Ваше решение"
      ],
      "execution_count": null,
      "outputs": []
    },
    {
      "cell_type": "markdown",
      "metadata": {
        "id": "j5ck7dUKmuTD"
      },
      "source": [
        "### Решение"
      ]
    },
    {
      "cell_type": "code",
      "metadata": {
        "colab": {
          "base_uri": "https://localhost:8080/"
        },
        "id": "WxK9_N0qk7AP",
        "outputId": "c769bb5b-0b8d-4e04-c40a-a1d1f60cd5a9"
      },
      "source": [
        "# Создание для каждого словаря множеств и нахождение разности двух множеств\n",
        "a = set(new_dict.items()) - set(initial_dict.items())\n",
        "# Вывод новых сотрудников\n",
        "print(a)\n",
        "\n",
        "list_of_names = []                        # Создание пустого списка для имен\n",
        "for i in list(a):                         # Перебор значений разности словарей\n",
        "  list_of_names.append(i[0])              # Добавление имен в список\n",
        "print(list_of_names)                      # Вывод результата\n",
        "sorted(list_of_names)                     # Вывод имен, отсортированных по алфавиту"
      ],
      "execution_count": null,
      "outputs": [
        {
          "output_type": "stream",
          "name": "stdout",
          "text": [
            "{('Андрей Петров', 24), ('Светлана Петрова', 23), ('Валерия Иванова', 21)}\n",
            "['Андрей Петров', 'Светлана Петрова', 'Валерия Иванова']\n"
          ]
        },
        {
          "output_type": "execute_result",
          "data": {
            "text/plain": [
              "['Андрей Петров', 'Валерия Иванова', 'Светлана Петрова']"
            ]
          },
          "metadata": {},
          "execution_count": 2
        }
      ]
    }
  ]
}