{
  "nbformat": 4,
  "nbformat_minor": 0,
  "metadata": {
    "colab": {
      "provenance": [],
      "collapsed_sections": [
        "wA7g_cXUZs-Z",
        "8nAhSIaqIBQ1",
        "4NU3qCqQqnpV",
        "arqIQkmTqnpW",
        "5fHnAIkHIVqt",
        "mYJ9tN8oIlUD",
        "HtjsPFhPI6v7",
        "xg_u0QMjJqxf",
        "WzKoIr63J0RM",
        "GuhdYEj6KKb1",
        "n8ub3sBtKOM9",
        "dILkKoCYKZ2r",
        "rBoz8nInKjaH",
        "lgep--4yKpwe",
        "TbYvE6tyKtLF",
        "um3KtdcnK0A_",
        "CWNZ0yZULOem",
        "9yWg8qHbLo8v",
        "pK22SUt1qCFQ",
        "wj9BHGO5qCFS",
        "gpCDzSNBMP5r",
        "PPGP4Pt4MYF2",
        "yodhRNGBPAkH",
        "LbCDTFfUPyKe",
        "C0aJLTPjPCYm",
        "7dzjLkwIP0eR",
        "fwtJhr4-PEg2",
        "I06mBFw-P4OO",
        "rgrMq-mIPGR2",
        "3YrVXt3UP6Ny",
        "rcXUax3VPLt_",
        "iiuRSk2bP-C2",
        "gyvppUeBqUZb",
        "4b6AdqMpqUZc",
        "AgoJ3_9ePOiB",
        "vjcaaL1wQAEo",
        "xVMsfBzTPRWQ",
        "7PQCfpnlQEDw",
        "2pDEdfVEPTnu",
        "Ot45dn5iQIQv",
        "BVd048_TPUse",
        "M6RPIesGQKLB",
        "uaAgVw7VPZXu",
        "6_TyAR8mQOHr",
        "q2GqTeNCPasn",
        "4tCx4afCQQYM",
        "vo8K-5rOPdUo",
        "sUrTiOyKQUsq",
        "tQ2LNk7IPebP",
        "CtXc7jhlQWy3",
        "PwLoQrouPfn_",
        "hUiyXKRaQZSJ",
        "eUUcXSK4PgyX",
        "sr54XRSedRf5",
        "lNO0_mJ4d5o-",
        "_ZKDTAA6pbD-",
        "Kj1f_IOwo6nY",
        "jAXgyWJhpe2f",
        "BBrF_VAWFmQX",
        "-lz2wUJbFmQY",
        "ptWGzFQxGspb",
        "sT_6xwD9Gspd",
        "2CD-HgCz8xPy",
        "R-tpp7bs88Pv"
      ]
    },
    "kernelspec": {
      "name": "python3",
      "display_name": "Python 3"
    },
    "language_info": {
      "name": "python"
    }
  },
  "cells": [
    {
      "cell_type": "markdown",
      "metadata": {
        "id": "wA7g_cXUZs-Z"
      },
      "source": [
        "## Задача 1"
      ]
    },
    {
      "cell_type": "markdown",
      "source": [
        "Необходимо заменить все вхождения слова 'пример' в тексте на слово 'замена'.\n"
      ],
      "metadata": {
        "id": "6dE_i-yh8o70"
      }
    },
    {
      "cell_type": "code",
      "source": [
        "text = \"Это пример текста, в котором нужно заменить слово 'пример' на слово 'замена'.\""
      ],
      "metadata": {
        "id": "sGw5VivKHkal"
      },
      "execution_count": null,
      "outputs": []
    },
    {
      "cell_type": "code",
      "source": [
        "# Ваш код"
      ],
      "metadata": {
        "id": "2J6Wr0LHIAo0"
      },
      "execution_count": null,
      "outputs": []
    },
    {
      "cell_type": "markdown",
      "source": [
        "### Решение"
      ],
      "metadata": {
        "id": "8nAhSIaqIBQ1"
      }
    },
    {
      "cell_type": "code",
      "source": [
        "text = \"Это пример текста, в котором нужно заменить слово 'пример' на слово 'замена'.\"\n",
        "new_text = text.replace(\"пример\", \"замена\") # Функция `replace()` принимает два аргумента - искомую подстроку и подстроку-замену.\n",
        "print(new_text)"
      ],
      "metadata": {
        "id": "w48x7PJ-cCMH",
        "colab": {
          "base_uri": "https://localhost:8080/"
        },
        "outputId": "81fa1204-71b1-4c8d-fc08-d47f92156329"
      },
      "execution_count": null,
      "outputs": [
        {
          "output_type": "stream",
          "name": "stdout",
          "text": [
            "Это замена текста, в котором нужно заменить слово 'замена' на слово 'замена'.\n"
          ]
        }
      ]
    },
    {
      "cell_type": "markdown",
      "source": [
        "## Задача 2"
      ],
      "metadata": {
        "id": "4NU3qCqQqnpV"
      }
    },
    {
      "cell_type": "markdown",
      "source": [
        "Нужно создать систему, которая анализирует базу данных клиентов и определяет количество уникальных клиентов, которые посетили фитнес-центр за период времени.\n"
      ],
      "metadata": {
        "id": "-2wz8o6FqnpV"
      }
    },
    {
      "cell_type": "code",
      "source": [
        "numbers = [1, 2, 3, 4, 5, 3, 2, 1] # номера клиентов посетивших фитнес-центр за период времени"
      ],
      "metadata": {
        "id": "rgVBuS5IqnpW"
      },
      "execution_count": null,
      "outputs": []
    },
    {
      "cell_type": "code",
      "source": [
        "# Ваше решение"
      ],
      "metadata": {
        "id": "K7YyDm9qqnpW"
      },
      "execution_count": null,
      "outputs": []
    },
    {
      "cell_type": "markdown",
      "source": [
        "### Решение"
      ],
      "metadata": {
        "id": "arqIQkmTqnpW"
      }
    },
    {
      "cell_type": "code",
      "source": [
        "numbers = [1, 2, 3, 4, 5, 3, 2, 1]\n",
        "unique_count = len(set(numbers)) # создаем множество, которое содержит только уникальные элементы из списка `numbers` и считаем его длину\n",
        "print(unique_count)"
      ],
      "metadata": {
        "colab": {
          "base_uri": "https://localhost:8080/"
        },
        "id": "d-nseg7uqnpX",
        "outputId": "44b0d1c1-8b17-4455-9111-945838004395"
      },
      "execution_count": null,
      "outputs": [
        {
          "output_type": "stream",
          "name": "stdout",
          "text": [
            "5\n"
          ]
        }
      ]
    },
    {
      "cell_type": "markdown",
      "source": [
        "## Задача 3"
      ],
      "metadata": {
        "id": "5fHnAIkHIVqt"
      }
    },
    {
      "cell_type": "markdown",
      "source": [
        "Необходимо удалить все символы 'о' из строки."
      ],
      "metadata": {
        "id": "PP4fJ1gp80lF"
      }
    },
    {
      "cell_type": "code",
      "source": [
        "string = \"Это пример строки, в которой нужно удалить все символы 'о'.\""
      ],
      "metadata": {
        "id": "vLg1E6AyIh00"
      },
      "execution_count": null,
      "outputs": []
    },
    {
      "cell_type": "code",
      "source": [
        "# Ваш код"
      ],
      "metadata": {
        "id": "BOANI7vbIi9Y"
      },
      "execution_count": null,
      "outputs": []
    },
    {
      "cell_type": "markdown",
      "source": [
        "### Решение"
      ],
      "metadata": {
        "id": "mYJ9tN8oIlUD"
      }
    },
    {
      "cell_type": "code",
      "source": [
        "string = \"Это пример строки, в которой нужно удалить все символы 'о'.\"\n",
        "new_string = string.replace(\"о\", \"\") # функция `replace()` удаляет все вхождения символа \"о\" из строки.\n",
        "print(new_string)"
      ],
      "metadata": {
        "colab": {
          "base_uri": "https://localhost:8080/"
        },
        "id": "nSvTuUUZ8ysP",
        "outputId": "e1929cf8-787c-409b-8e02-2717e549b142"
      },
      "execution_count": null,
      "outputs": [
        {
          "output_type": "stream",
          "name": "stdout",
          "text": [
            "Эт пример стрки, в ктрй нужн удалить все симвлы ''.\n"
          ]
        }
      ]
    },
    {
      "cell_type": "markdown",
      "source": [
        "## Задача 4"
      ],
      "metadata": {
        "id": "HtjsPFhPI6v7"
      }
    },
    {
      "cell_type": "markdown",
      "source": [
        "Напишите программу, которая будет считать количество слов в заданном предложении."
      ],
      "metadata": {
        "id": "agToZyTd8378"
      }
    },
    {
      "cell_type": "code",
      "source": [
        "sentence = \"Мой дядя самых честных правил\""
      ],
      "metadata": {
        "id": "72ROejpvJC4X"
      },
      "execution_count": null,
      "outputs": []
    },
    {
      "cell_type": "code",
      "source": [
        "# Ваш код"
      ],
      "metadata": {
        "id": "uwVNHeU-JlBI"
      },
      "execution_count": null,
      "outputs": []
    },
    {
      "cell_type": "markdown",
      "source": [
        "### Решение"
      ],
      "metadata": {
        "id": "xg_u0QMjJqxf"
      }
    },
    {
      "cell_type": "code",
      "source": [
        "sentence = \"Мой дядя самых честных правил\"\n",
        "# Подсчет количества слов\n",
        "count = sentence.count(\" \") + 1 # Добавляем 1 к полученному результату, так как количество слов всегда на 1 больше, чем количество пробелов.\n",
        "print(\"Количество слов в предложении:\", count) # Вывод результата"
      ],
      "metadata": {
        "id": "YDPZNHbhczUw",
        "colab": {
          "base_uri": "https://localhost:8080/"
        },
        "outputId": "fbc75328-aa3e-49ea-87d3-020ce298f772"
      },
      "execution_count": null,
      "outputs": [
        {
          "output_type": "stream",
          "name": "stdout",
          "text": [
            "Количество слов в предложении: 5\n"
          ]
        }
      ]
    },
    {
      "cell_type": "markdown",
      "source": [
        "Другой вариант решения"
      ],
      "metadata": {
        "id": "JXyGOH5aJvs1"
      }
    },
    {
      "cell_type": "code",
      "source": [
        "sentence = \"Мой дядя самых честных правил\"\n",
        "words = sentence.split()  # Разделение текста на слова с помощью split()\n",
        "word_count = len(words)  # Подсчет количества слов в списке с помощью len()\n",
        "print(\"Количество слов в предложении:\", word_count)"
      ],
      "metadata": {
        "colab": {
          "base_uri": "https://localhost:8080/"
        },
        "id": "dazy6z3H87bF",
        "outputId": "78453447-3e7c-4383-bd57-e420e731fd41"
      },
      "execution_count": null,
      "outputs": [
        {
          "output_type": "stream",
          "name": "stdout",
          "text": [
            "Количество слов в предложении: 5\n"
          ]
        }
      ]
    },
    {
      "cell_type": "markdown",
      "source": [
        "## Задача 5"
      ],
      "metadata": {
        "id": "WzKoIr63J0RM"
      }
    },
    {
      "cell_type": "markdown",
      "source": [
        "Напишите программу, которая будет находить самое длинное слово в заданной строке.\n"
      ],
      "metadata": {
        "id": "o-3YMSSF9CS3"
      }
    },
    {
      "cell_type": "code",
      "source": [
        "string = \"Привет, как дела?\""
      ],
      "metadata": {
        "id": "DSWcSDxdJ69X"
      },
      "execution_count": null,
      "outputs": []
    },
    {
      "cell_type": "code",
      "source": [
        "# Ваш код"
      ],
      "metadata": {
        "id": "UI9zro7dKH4w"
      },
      "execution_count": null,
      "outputs": []
    },
    {
      "cell_type": "markdown",
      "source": [
        "### Решение"
      ],
      "metadata": {
        "id": "GuhdYEj6KKb1"
      }
    },
    {
      "cell_type": "code",
      "source": [
        "string = \"Привет, как дела?\"\n",
        "words = string.split()  # разбиваем строку на слова\n",
        "longest_word = \"\"\n",
        "for word in words:  # проходим по каждому слову\n",
        "    if len(word) > len(longest_word):  # если текущее слово длиннее предыдущего самого длинного\n",
        "        longest_word = word  # обновляем значение самого длинного слова\n",
        "print(\"Самое длинное слово:\", longest_word)"
      ],
      "metadata": {
        "id": "r6kVPzoudjO4",
        "colab": {
          "base_uri": "https://localhost:8080/"
        },
        "outputId": "680cfc60-1846-40fd-9093-d01c5012ba63"
      },
      "execution_count": null,
      "outputs": [
        {
          "output_type": "stream",
          "name": "stdout",
          "text": [
            "Самое длинное слово: Привет,\n"
          ]
        }
      ]
    },
    {
      "cell_type": "markdown",
      "source": [
        "## Задача 6"
      ],
      "metadata": {
        "id": "n8ub3sBtKOM9"
      }
    },
    {
      "cell_type": "markdown",
      "source": [
        "Напишите программу, которая будет переворачивать заданную строку."
      ],
      "metadata": {
        "id": "UY0zbTMb9FNl"
      }
    },
    {
      "cell_type": "code",
      "source": [
        "string = \"Привет, как дела?\""
      ],
      "metadata": {
        "id": "YUjJg_d_KWQX"
      },
      "execution_count": null,
      "outputs": []
    },
    {
      "cell_type": "code",
      "source": [
        "# Ваш код"
      ],
      "metadata": {
        "id": "9diOZBF5KYDO"
      },
      "execution_count": null,
      "outputs": []
    },
    {
      "cell_type": "markdown",
      "source": [
        "### Решение"
      ],
      "metadata": {
        "id": "dILkKoCYKZ2r"
      }
    },
    {
      "cell_type": "code",
      "source": [
        "string = \"Привет, как дела?\"\n",
        "reversed_string = \"\"\n",
        "words = string.split()  # разбиваем строку на слова\n",
        "for word in words:  # проходим по каждому слову\n",
        "    reversed_word = word[::-1]  # переворачиваем слово\n",
        "    reversed_string += reversed_word + \" \"  # добавляем перевернутое слово в результирующую строку\n",
        "print(\"Перевернутая строка:\", reversed_string)"
      ],
      "metadata": {
        "id": "6VtYqFIAfZfm",
        "colab": {
          "base_uri": "https://localhost:8080/"
        },
        "outputId": "d1659f5a-8386-498d-cfd7-ff45b523eeba"
      },
      "execution_count": null,
      "outputs": [
        {
          "output_type": "stream",
          "name": "stdout",
          "text": [
            "Перевернутая строка: ,тевирП как ?алед \n"
          ]
        }
      ]
    },
    {
      "cell_type": "markdown",
      "source": [
        "## Задача 7"
      ],
      "metadata": {
        "id": "rBoz8nInKjaH"
      }
    },
    {
      "cell_type": "markdown",
      "source": [
        "Напишите программу, которая будет проверять, является ли заданная строка палиндромом.\n"
      ],
      "metadata": {
        "id": "XMrRlmVW9JKV"
      }
    },
    {
      "cell_type": "code",
      "source": [
        "string = \"А роза упала на лапу Азора\""
      ],
      "metadata": {
        "id": "lWAhEEiDKnJa"
      },
      "execution_count": null,
      "outputs": []
    },
    {
      "cell_type": "code",
      "source": [
        "# Ваш код"
      ],
      "metadata": {
        "id": "WOCwohmKKn2N"
      },
      "execution_count": null,
      "outputs": []
    },
    {
      "cell_type": "markdown",
      "source": [
        "### Решение"
      ],
      "metadata": {
        "id": "lgep--4yKpwe"
      }
    },
    {
      "cell_type": "code",
      "source": [
        "\n",
        "string = \"А роза упала на лапу Азора\"\n",
        "string = string.lower().replace(\" \", \"\")  # Переводим строку в нижний регистр и удаляем пробелы\n",
        "reverse_string = string[::-1]  # Разворачиваем строку\n",
        "if string == reverse_string:  # Сравниваем исходную строку с развернутой\n",
        "    print(\"Строка является палиндромом\")\n",
        "else:\n",
        "    print(\"Строка не является палиндромом\")"
      ],
      "metadata": {
        "id": "42ZF1VKSfk2F",
        "colab": {
          "base_uri": "https://localhost:8080/"
        },
        "outputId": "a4195c2c-419e-40e6-9e71-6987fa5fd02a"
      },
      "execution_count": null,
      "outputs": [
        {
          "output_type": "stream",
          "name": "stdout",
          "text": [
            "Строка является палиндромом\n"
          ]
        }
      ]
    },
    {
      "cell_type": "markdown",
      "source": [
        "## Задача 8"
      ],
      "metadata": {
        "id": "TbYvE6tyKtLF"
      }
    },
    {
      "cell_type": "markdown",
      "source": [
        "Напишите программу, которая будет генерировать случайный пароль заданной длины."
      ],
      "metadata": {
        "id": "sMbUQIhK9M6h"
      }
    },
    {
      "cell_type": "code",
      "source": [
        "# Ваш код"
      ],
      "metadata": {
        "id": "ttjWgqsAK0ZU"
      },
      "execution_count": null,
      "outputs": []
    },
    {
      "cell_type": "markdown",
      "source": [
        "### Решение"
      ],
      "metadata": {
        "id": "um3KtdcnK0A_"
      }
    },
    {
      "cell_type": "code",
      "source": [
        "import random\n",
        "\n",
        "length = 8  # Длина пароля\n",
        "characters = \"abcdefghijklmnopqrstuvwxyzABCDEFGHIJKLMNOPQRSTUVWXYZ1234567890\"  # Допустимые символы\n",
        "password = \"\"\n",
        "for _ in range(length):\n",
        "    password += random.choice(characters)  # Выбираем случайный символ из строки characters и добавляем выбранный символ к паролю\n",
        "print(\"Сгенерированный пароль:\", password)\n"
      ],
      "metadata": {
        "id": "PI-fZokygsTB",
        "colab": {
          "base_uri": "https://localhost:8080/"
        },
        "outputId": "6d246886-5e40-4120-bd53-27ded4fa6ab0"
      },
      "execution_count": null,
      "outputs": [
        {
          "output_type": "stream",
          "name": "stdout",
          "text": [
            "Сгенерированный пароль: sAS0EFmA\n"
          ]
        }
      ]
    },
    {
      "cell_type": "markdown",
      "source": [
        "## Задача 9"
      ],
      "metadata": {
        "id": "CWNZ0yZULOem"
      }
    },
    {
      "cell_type": "markdown",
      "source": [
        "Напишите программу, которая удаляет все элементы из списка, удовлетворяющие определенному условию (например, все элементы больше числа 3)."
      ],
      "metadata": {
        "id": "lhiMfd-Y9THH"
      }
    },
    {
      "cell_type": "code",
      "source": [
        "my_list = [1, 2, 3, 4, 5, 6]"
      ],
      "metadata": {
        "id": "T32O1IsXLcZI"
      },
      "execution_count": null,
      "outputs": []
    },
    {
      "cell_type": "code",
      "source": [
        "# Ваш код"
      ],
      "metadata": {
        "id": "NVW5YUhNLl7t"
      },
      "execution_count": null,
      "outputs": []
    },
    {
      "cell_type": "markdown",
      "source": [
        "### Решение"
      ],
      "metadata": {
        "id": "9yWg8qHbLo8v"
      }
    },
    {
      "cell_type": "code",
      "source": [
        "my_list = [1, 2, 3, 4, 5, 6]\n",
        "my_list2 = my_list.copy()\n",
        "\n",
        "# Удаление элементов больше 3 из списка\n",
        "for item in my_list2: # проходимся по каждому элементу `item` в списке `my_list`\n",
        "    if item > 3: # проверяем элемент `item` больше числа 3\n",
        "        my_list.remove(item) # удаляем элемент `item` с помощью метода `remove()`\n",
        "\n",
        "print(my_list)"
      ],
      "metadata": {
        "id": "I3VsZw0Khsgd",
        "colab": {
          "base_uri": "https://localhost:8080/"
        },
        "outputId": "bdc9e7e1-6d59-4ff6-f06a-cf0c8ae5b020"
      },
      "execution_count": null,
      "outputs": [
        {
          "output_type": "stream",
          "name": "stdout",
          "text": [
            "[1, 2, 3]\n"
          ]
        }
      ]
    },
    {
      "cell_type": "markdown",
      "source": [
        "## Задача 10"
      ],
      "metadata": {
        "id": "pK22SUt1qCFQ"
      }
    },
    {
      "cell_type": "markdown",
      "source": [
        "Создайте новый список и добавьте туда ключи из словаря my_dict"
      ],
      "metadata": {
        "id": "Dc9qBWNuqCFR"
      }
    },
    {
      "cell_type": "code",
      "source": [
        "my_dict = {'key1': 'value1', 'key2': 'value2'}"
      ],
      "metadata": {
        "id": "ejAF7imuqCFR"
      },
      "execution_count": null,
      "outputs": []
    },
    {
      "cell_type": "code",
      "source": [
        "# Ваше решение"
      ],
      "metadata": {
        "id": "NudAQlRwqCFR"
      },
      "execution_count": null,
      "outputs": []
    },
    {
      "cell_type": "markdown",
      "source": [
        "### Решение"
      ],
      "metadata": {
        "id": "wj9BHGO5qCFS"
      }
    },
    {
      "cell_type": "code",
      "source": [
        "my_dict = {'key1': 'value1', 'key2': 'value2'}\n",
        "new_list = list(my_dict.keys())\n",
        "new_list"
      ],
      "metadata": {
        "colab": {
          "base_uri": "https://localhost:8080/"
        },
        "id": "_9xYGyJDqCFS",
        "outputId": "9aa77777-2771-48da-daf6-d8122e421d90"
      },
      "execution_count": null,
      "outputs": [
        {
          "output_type": "execute_result",
          "data": {
            "text/plain": [
              "['key1', 'key2']"
            ]
          },
          "metadata": {},
          "execution_count": 30
        }
      ]
    },
    {
      "cell_type": "markdown",
      "source": [
        "## Задача 11"
      ],
      "metadata": {
        "id": "gpCDzSNBMP5r"
      }
    },
    {
      "cell_type": "markdown",
      "source": [
        "Напишите программу, которая будет считать количество гласных букв в заданной строке."
      ],
      "metadata": {
        "id": "cFSTyO859WG1"
      }
    },
    {
      "cell_type": "code",
      "source": [
        "string = \"Однажды, в студеную зимнюю пору\""
      ],
      "metadata": {
        "id": "dPU00Dt6MXQu"
      },
      "execution_count": null,
      "outputs": []
    },
    {
      "cell_type": "code",
      "source": [
        "# Ваш код"
      ],
      "metadata": {
        "id": "NASXburqMYyX"
      },
      "execution_count": null,
      "outputs": []
    },
    {
      "cell_type": "markdown",
      "source": [
        "### Решение"
      ],
      "metadata": {
        "id": "PPGP4Pt4MYF2"
      }
    },
    {
      "cell_type": "code",
      "source": [
        "string = \"Однажды, в студеную зимнюю пору\"\n",
        "\n",
        "vowels = ['а', 'о', 'у', 'е', 'ё', 'э', 'ы', 'и', 'ю', 'я'] # Список гласных букв\n",
        "string = string.lower() # Переводим строку в нижний регистр для удобства сравнения\n",
        "count = 0 # Инициализируем счетчик гласных\n",
        "\n",
        "for char in string: # Итерируем по каждому символу в строке\n",
        "    if char in vowels: # Проверяем, является ли символ гласной буквой\n",
        "        count += 1 # Увеличиваем счетчик, если символ является гласной буквой\n",
        "\n",
        "print(\"Количество гласных букв в строке:\", count)"
      ],
      "metadata": {
        "id": "cMBBqDawjUB6",
        "colab": {
          "base_uri": "https://localhost:8080/"
        },
        "outputId": "e8fdcb1c-10e5-4ac3-ed37-5596cdce1fad"
      },
      "execution_count": null,
      "outputs": [
        {
          "output_type": "stream",
          "name": "stdout",
          "text": [
            "Количество гласных букв в строке: 12\n"
          ]
        }
      ]
    },
    {
      "cell_type": "markdown",
      "source": [
        "## Задача 12"
      ],
      "metadata": {
        "id": "yodhRNGBPAkH"
      }
    },
    {
      "cell_type": "markdown",
      "source": [
        " Дан список слов. Необходимо найти самое длинное и самое короткое слово в этом списке."
      ],
      "metadata": {
        "id": "LDGDpbqZ9fNf"
      }
    },
    {
      "cell_type": "code",
      "source": [
        "strings = [\"apple\", \"banana\", \"cherry\", \"date\"]"
      ],
      "metadata": {
        "id": "rhmW_varRG37"
      },
      "execution_count": null,
      "outputs": []
    },
    {
      "cell_type": "code",
      "source": [
        "# Ваше решение"
      ],
      "metadata": {
        "id": "xl_Tb9msPxry"
      },
      "execution_count": null,
      "outputs": []
    },
    {
      "cell_type": "markdown",
      "source": [
        "### Решение"
      ],
      "metadata": {
        "id": "LbCDTFfUPyKe"
      }
    },
    {
      "cell_type": "code",
      "source": [
        "\n",
        "strings = [\"яблоко\", \"банан\", \"огурец\", \"виноград\"]\n",
        "\n",
        "longest = max(strings, key=len) # Используем метод `max()` с параметром `key=len` для нахождения самой длинной строки в списке и присваиваем ее переменной `longest`\n",
        "shortest = min(strings, key=len) # Используем метод `max()` с параметром `key=len` для нахождения самой длинной строки в списке и присваиваем ее переменной `longest`\n",
        "\n",
        "print(\"Самая длинная строка:\", longest)\n",
        "print(\"Самая короткая строка:\", shortest)"
      ],
      "metadata": {
        "id": "KrAJ792akaUO",
        "colab": {
          "base_uri": "https://localhost:8080/"
        },
        "outputId": "af024578-b249-4473-a0a4-14f9296979f3"
      },
      "execution_count": null,
      "outputs": [
        {
          "output_type": "stream",
          "name": "stdout",
          "text": [
            "Самая длинная строка: виноград\n",
            "Самая короткая строка: банан\n"
          ]
        }
      ]
    },
    {
      "cell_type": "markdown",
      "source": [
        "## Задача 13"
      ],
      "metadata": {
        "id": "C0aJLTPjPCYm"
      }
    },
    {
      "cell_type": "markdown",
      "source": [
        "Напишите программу, которая будет подсчитывать сумму всех чисел в заданном словаре."
      ],
      "metadata": {
        "id": "t21tJC3B9m_N"
      }
    },
    {
      "cell_type": "code",
      "source": [
        "numbers = {'a': 10, 'b': 5, 'c': 8, 'd': 15, 'e': 3}"
      ],
      "metadata": {
        "id": "zBrQqRDZRiEG"
      },
      "execution_count": null,
      "outputs": []
    },
    {
      "cell_type": "code",
      "source": [
        "# Ваше решение"
      ],
      "metadata": {
        "id": "XGIzsDo4P0Av"
      },
      "execution_count": null,
      "outputs": []
    },
    {
      "cell_type": "markdown",
      "source": [
        "### Решение"
      ],
      "metadata": {
        "id": "7dzjLkwIP0eR"
      }
    },
    {
      "cell_type": "code",
      "source": [
        "numbers = {'a': 10, 'b': 5, 'c': 8, 'd': 15, 'e': 3}\n",
        "\n",
        "sum_numbers = 0 # Инициализируем переменную sum_numbers значением 0\n",
        "\n",
        "for key, value in numbers.items(): # Проходим по всем элементам словаря\n",
        "    if isinstance(value, int): # Проверяем, является ли значение числом\n",
        "        sum_numbers += value # Если значение числовое, добавляем его к sum_numbers\n",
        "\n",
        "print(\"Сумма чисел в словаре:\", sum_numbers)"
      ],
      "metadata": {
        "id": "KHZubO1YnbIZ",
        "colab": {
          "base_uri": "https://localhost:8080/"
        },
        "outputId": "2c841d9d-6599-4154-b3d1-46d0843e8137"
      },
      "execution_count": null,
      "outputs": [
        {
          "output_type": "stream",
          "name": "stdout",
          "text": [
            "Сумма чисел в словаре: 41\n"
          ]
        }
      ]
    },
    {
      "cell_type": "markdown",
      "source": [
        "## Задача 14"
      ],
      "metadata": {
        "id": "fwtJhr4-PEg2"
      }
    },
    {
      "cell_type": "markdown",
      "source": [
        " У вас есть словарь, где ключами являются имена контактов, а значениями - их номера телефонов. Необходимо найти номер телефона по имени контакта.\n"
      ],
      "metadata": {
        "id": "ifBzSDLM9p7d"
      }
    },
    {
      "cell_type": "code",
      "source": [
        "# Ваше решение"
      ],
      "metadata": {
        "id": "cumKKGxtP3zY"
      },
      "execution_count": null,
      "outputs": []
    },
    {
      "cell_type": "markdown",
      "source": [
        "### Решение"
      ],
      "metadata": {
        "id": "I06mBFw-P4OO"
      }
    },
    {
      "cell_type": "code",
      "source": [
        "# Создаем словарь с контактами\n",
        "телефонная_книга = {'Анна': '1234567890', 'Иван': '9876543210', 'Мария': '5555555555'}\n",
        "\n",
        "# Задаем имя контакта, номер телефона которого нужно найти\n",
        "имя_контакта = 'Иван'\n",
        "\n",
        "# Ищем номер телефона по имени контакта в словаре\n",
        "номер_телефона = телефонная_книга[имя_контакта]\n",
        "\n",
        "# Выводим номер телефона\n",
        "print(\"Номер телефона:\", номер_телефона)"
      ],
      "metadata": {
        "id": "CPbPgeKOneUS",
        "colab": {
          "base_uri": "https://localhost:8080/"
        },
        "outputId": "52757014-9ec4-42e3-fb5d-d4dd0666da97"
      },
      "execution_count": null,
      "outputs": [
        {
          "output_type": "stream",
          "name": "stdout",
          "text": [
            "Номер телефона: 9876543210\n"
          ]
        }
      ]
    },
    {
      "cell_type": "markdown",
      "source": [
        "## Задача 15"
      ],
      "metadata": {
        "id": "rgrMq-mIPGR2"
      }
    },
    {
      "cell_type": "markdown",
      "source": [
        "Необходимо удалить все элементы из словаря, значения которых больше 2.\n"
      ],
      "metadata": {
        "id": "3dQIo8nk9tbt"
      }
    },
    {
      "cell_type": "code",
      "source": [
        "my_dict = {'a': 1, 'b': 2, 'c': 3, 'd': 4}"
      ],
      "metadata": {
        "id": "0QfyxUllR5kE"
      },
      "execution_count": null,
      "outputs": []
    },
    {
      "cell_type": "code",
      "source": [
        "# Ваше решение"
      ],
      "metadata": {
        "id": "daMfl-gIP5xA"
      },
      "execution_count": null,
      "outputs": []
    },
    {
      "cell_type": "markdown",
      "source": [
        "### Решение"
      ],
      "metadata": {
        "id": "3YrVXt3UP6Ny"
      }
    },
    {
      "cell_type": "code",
      "source": [
        "my_dict = {'a': 1, 'b': 2, 'c': 3, 'd': 4}\n",
        "\n",
        "my_dict = {key: value for key, value in my_dict.items() if value <= 2} # Удаляем все элементы, значения которых больше 2\n",
        "\n",
        "print(my_dict)"
      ],
      "metadata": {
        "id": "E5imz-fKrpyB",
        "colab": {
          "base_uri": "https://localhost:8080/"
        },
        "outputId": "b7dce237-dd1e-470d-97a4-61acc5317953"
      },
      "execution_count": null,
      "outputs": [
        {
          "output_type": "stream",
          "name": "stdout",
          "text": [
            "{'a': 1, 'b': 2}\n"
          ]
        }
      ]
    },
    {
      "cell_type": "markdown",
      "source": [
        "## Задача 16"
      ],
      "metadata": {
        "id": "rcXUax3VPLt_"
      }
    },
    {
      "cell_type": "markdown",
      "source": [
        "Напишите программу, которая запрашивает у пользователя начало и конец диапазона, а затем выводит сумму всех чисел в этом диапазоне."
      ],
      "metadata": {
        "id": "tq1m6pm0C60b"
      }
    },
    {
      "cell_type": "code",
      "source": [
        "# Ваше решение"
      ],
      "metadata": {
        "id": "KtO_g1l6P9nZ"
      },
      "execution_count": null,
      "outputs": []
    },
    {
      "cell_type": "markdown",
      "source": [
        "### Решение"
      ],
      "metadata": {
        "id": "iiuRSk2bP-C2"
      }
    },
    {
      "cell_type": "code",
      "source": [
        "start = int(input(\"Введите начало диапазона: \"))  # Запрос начала диапазона у пользователя\n",
        "end = int(input(\"Введите конец диапазона: \"))  # Запрос конца диапазона у пользователя\n",
        "numbers = range(start, end + 1)  # Создание списка чисел в заданном диапазоне\n",
        "sum_of_numbers = sum(numbers)  # Подсчет суммы чисел\n",
        "print(\"Сумма чисел в диапазоне:\", sum_of_numbers)  # Вывод результата"
      ],
      "metadata": {
        "id": "xNP8YLvzC9RB",
        "colab": {
          "base_uri": "https://localhost:8080/"
        },
        "outputId": "add6a6b5-bdaa-489a-9776-dd00389fb203"
      },
      "execution_count": null,
      "outputs": [
        {
          "output_type": "stream",
          "name": "stdout",
          "text": [
            "Введите начало диапазона: 10\n",
            "Введите конец диапазона: 20\n",
            "Сумма чисел в диапазоне: 165\n"
          ]
        }
      ]
    },
    {
      "cell_type": "markdown",
      "source": [
        "## Задача 17"
      ],
      "metadata": {
        "id": "gyvppUeBqUZb"
      }
    },
    {
      "cell_type": "markdown",
      "source": [
        "Создайте новый список и добавьте туда значения из словаря my_dict"
      ],
      "metadata": {
        "id": "I1nGiTALqUZb"
      }
    },
    {
      "cell_type": "code",
      "source": [
        "my_dict = {'key1': 'value1', 'key2': 'value2'}"
      ],
      "metadata": {
        "id": "5rPWLfOeqUZc"
      },
      "execution_count": null,
      "outputs": []
    },
    {
      "cell_type": "code",
      "source": [
        "# Ваше решение"
      ],
      "metadata": {
        "id": "hVXu1FtpqUZc"
      },
      "execution_count": null,
      "outputs": []
    },
    {
      "cell_type": "markdown",
      "source": [
        "### Решение"
      ],
      "metadata": {
        "id": "4b6AdqMpqUZc"
      }
    },
    {
      "cell_type": "code",
      "source": [
        "my_dict = {'key1': 'value1', 'key2': 'value2'}\n",
        "new_list = list(my_dict.values())\n",
        "new_list"
      ],
      "metadata": {
        "colab": {
          "base_uri": "https://localhost:8080/"
        },
        "id": "paNYTqUCqUZd",
        "outputId": "feabfeab-2473-4441-86d5-51326c211a7c"
      },
      "execution_count": null,
      "outputs": [
        {
          "output_type": "execute_result",
          "data": {
            "text/plain": [
              "['value1', 'value2']"
            ]
          },
          "metadata": {},
          "execution_count": 49
        }
      ]
    },
    {
      "cell_type": "markdown",
      "source": [
        "## Задача 18"
      ],
      "metadata": {
        "id": "AgoJ3_9ePOiB"
      }
    },
    {
      "cell_type": "markdown",
      "source": [
        "Необходимо объединить все элементы списка в одну строку, разделяя их запятой.\n",
        "   "
      ],
      "metadata": {
        "id": "x93CmM_PGdPG"
      }
    },
    {
      "cell_type": "code",
      "source": [
        "my_list = [\"apple\", \"banana\", \"orange\"]"
      ],
      "metadata": {
        "id": "pfi6lk9jSkV1"
      },
      "execution_count": null,
      "outputs": []
    },
    {
      "cell_type": "code",
      "source": [
        "# Ваше решение"
      ],
      "metadata": {
        "id": "Nz5rwllzP_jn"
      },
      "execution_count": null,
      "outputs": []
    },
    {
      "cell_type": "markdown",
      "source": [
        "### Решение"
      ],
      "metadata": {
        "id": "vjcaaL1wQAEo"
      }
    },
    {
      "cell_type": "code",
      "source": [
        "my_list = [\"apple\", \"banana\", \"orange\"]\n",
        "result = \", \".join(my_list)  # Объединяем элементы списка в строку, разделяя их запятой\n",
        "print(result)  # Выводим результат"
      ],
      "metadata": {
        "id": "zCy3cH0QGd4F",
        "colab": {
          "base_uri": "https://localhost:8080/"
        },
        "outputId": "c86d3c6b-458f-4c12-c045-a8c53b322874"
      },
      "execution_count": null,
      "outputs": [
        {
          "output_type": "stream",
          "name": "stdout",
          "text": [
            "apple, banana, orange\n"
          ]
        }
      ]
    },
    {
      "cell_type": "markdown",
      "source": [
        "## Задача 19"
      ],
      "metadata": {
        "id": "xVMsfBzTPRWQ"
      }
    },
    {
      "cell_type": "markdown",
      "source": [
        "Необходимо создать URL-адрес из списка пути."
      ],
      "metadata": {
        "id": "e-VE_YmjNTPr"
      }
    },
    {
      "cell_type": "code",
      "source": [
        "path = ['http://neural-university.ru', 'media']"
      ],
      "metadata": {
        "id": "Z9IY1WkXSyf5"
      },
      "execution_count": null,
      "outputs": []
    },
    {
      "cell_type": "code",
      "source": [
        "# Ваше решение"
      ],
      "metadata": {
        "id": "a4uXzvRnQDp9"
      },
      "execution_count": null,
      "outputs": []
    },
    {
      "cell_type": "markdown",
      "source": [
        "### Решение"
      ],
      "metadata": {
        "id": "7PQCfpnlQEDw"
      }
    },
    {
      "cell_type": "code",
      "source": [
        "path = ['http://neural-university.ru', 'media']\n",
        "\n",
        "result = '/'.join(path) # Использование join для объединения элементов списка в строку с разделителем '/'\n",
        "print(result)\n"
      ],
      "metadata": {
        "id": "VyURRwbZHtVC",
        "colab": {
          "base_uri": "https://localhost:8080/"
        },
        "outputId": "2e012210-9767-4365-df73-fd84303d8622"
      },
      "execution_count": null,
      "outputs": [
        {
          "output_type": "stream",
          "name": "stdout",
          "text": [
            "http://neural-university.ru/media\n"
          ]
        }
      ]
    },
    {
      "cell_type": "markdown",
      "source": [
        "## Задача 20"
      ],
      "metadata": {
        "id": "2pDEdfVEPTnu"
      }
    },
    {
      "cell_type": "markdown",
      "source": [
        "Необходимо проверить, является ли список упорядоченным по возрастанию, используя цикл.\n",
        "\n",
        "\n"
      ],
      "metadata": {
        "id": "0vUXBsj3KKAO"
      }
    },
    {
      "cell_type": "code",
      "source": [
        "numbers = [1, 2, 3, 4, 5]"
      ],
      "metadata": {
        "id": "AhgZUyT_TS0x"
      },
      "execution_count": null,
      "outputs": []
    },
    {
      "cell_type": "code",
      "source": [
        "# Ваше решение"
      ],
      "metadata": {
        "id": "HAei6Gi3QHzD"
      },
      "execution_count": null,
      "outputs": []
    },
    {
      "cell_type": "markdown",
      "source": [
        "### Решение"
      ],
      "metadata": {
        "id": "Ot45dn5iQIQv"
      }
    },
    {
      "cell_type": "code",
      "source": [
        "numbers = [1, 2, 3, 4, 5]\n",
        "is_sorted = True # устанавливаем флаг `is_sorted` в значение `True`\n",
        "\n",
        "for i in range(len(numbers)-1): # проходим по всем элементам списка\n",
        "    if numbers[i] > numbers[i+1]: # проверяем, если текущий элемент больше следующего элемента\n",
        "        is_sorted = False # устанавливаем флаг `is_sorted` в значение `False`\n",
        "        break # выходим из цикла с помощью оператора `break`\n",
        "\n",
        "if is_sorted: # проверяем значение флага `is_sorted` равен `True`\n",
        "    print(\"Список упорядочен по возрастанию.\")\n",
        "else:\n",
        "    print(\"Список не упорядочен по возрастанию.\")"
      ],
      "metadata": {
        "id": "7CMuB0aeKJgo",
        "colab": {
          "base_uri": "https://localhost:8080/"
        },
        "outputId": "3f5cf9c4-cc17-40a3-c231-3d4d2730456d"
      },
      "execution_count": null,
      "outputs": [
        {
          "output_type": "stream",
          "name": "stdout",
          "text": [
            "Список упорядочен по возрастанию.\n"
          ]
        }
      ]
    },
    {
      "cell_type": "markdown",
      "source": [
        "## Задача 21"
      ],
      "metadata": {
        "id": "BVd048_TPUse"
      }
    },
    {
      "cell_type": "markdown",
      "source": [
        "Напишите программу, которая будет подсчитывать количество слов в списке, длина которых превышает 5 символов.\n"
      ],
      "metadata": {
        "id": "UNX86DF-N2Av"
      }
    },
    {
      "cell_type": "code",
      "source": [
        "words = ['apple', 'banana', 'cherry', 'date', 'elderberry', 'fig']"
      ],
      "metadata": {
        "id": "DfQlTFtGULex"
      },
      "execution_count": null,
      "outputs": []
    },
    {
      "cell_type": "code",
      "source": [
        "# Ваше решение"
      ],
      "metadata": {
        "id": "nX-cZ1ZfQJrj"
      },
      "execution_count": null,
      "outputs": []
    },
    {
      "cell_type": "markdown",
      "source": [
        "### Решение"
      ],
      "metadata": {
        "id": "M6RPIesGQKLB"
      }
    },
    {
      "cell_type": "code",
      "source": [
        "words = ['apple', 'banana', 'cherry', 'date', 'elderberry', 'fig']\n",
        "count = 0 # задаем значение счетчика\n",
        "for word in words: # проходимся по каждому элементу `word` в списке `words`\n",
        "    if len(word) > 5: # если длина текущего слова больше 5\n",
        "        count += 1 # значение переменной `count` увеличивается на 1\n",
        "print(count)"
      ],
      "metadata": {
        "id": "POL14P5JK6x9",
        "colab": {
          "base_uri": "https://localhost:8080/"
        },
        "outputId": "37ac0f0e-e28a-4e11-af8d-5f3d71e5cc51"
      },
      "execution_count": null,
      "outputs": [
        {
          "output_type": "stream",
          "name": "stdout",
          "text": [
            "3\n"
          ]
        }
      ]
    },
    {
      "cell_type": "markdown",
      "source": [
        "## Задача 22"
      ],
      "metadata": {
        "id": "uaAgVw7VPZXu"
      }
    },
    {
      "cell_type": "markdown",
      "source": [
        "Необходимо объединить два списка с уникальными элементами в один список, чтобы получить полный список всех доступных товаров на складе.\n"
      ],
      "metadata": {
        "id": "38qta_lTNtbp"
      }
    },
    {
      "cell_type": "code",
      "source": [
        "list1 = [1, 2, 3]\n",
        "list2 = [3, 4, 5]"
      ],
      "metadata": {
        "id": "i7mE-YPcVUJr"
      },
      "execution_count": null,
      "outputs": []
    },
    {
      "cell_type": "code",
      "source": [
        "# Ваше решение"
      ],
      "metadata": {
        "id": "JqL1dcQYQNr4"
      },
      "execution_count": null,
      "outputs": []
    },
    {
      "cell_type": "markdown",
      "source": [
        "### Решение"
      ],
      "metadata": {
        "id": "6_TyAR8mQOHr"
      }
    },
    {
      "cell_type": "code",
      "source": [
        "list1 = [1, 2, 3]\n",
        "list2 = [3, 4, 5]\n",
        "combined_list = sorted(set(list1 + list2)) # объединяем два списка `list1` и `list2` в один список, удаляем повторяющиеся элементы и сортируем его в порядке возрастания\n",
        "print(combined_list)"
      ],
      "metadata": {
        "id": "1u2Lsf68LO4L",
        "colab": {
          "base_uri": "https://localhost:8080/"
        },
        "outputId": "92d29c6a-74e6-41d7-fbeb-695828d834cb"
      },
      "execution_count": null,
      "outputs": [
        {
          "output_type": "stream",
          "name": "stdout",
          "text": [
            "[1, 2, 3, 4, 5]\n"
          ]
        }
      ]
    },
    {
      "cell_type": "markdown",
      "source": [
        "## Задача 23"
      ],
      "metadata": {
        "id": "q2GqTeNCPasn"
      }
    },
    {
      "cell_type": "markdown",
      "source": [
        "В магазине есть два отдела с разными товарами, нужно найти товары, которые есть и в одном, и в другом отделе."
      ],
      "metadata": {
        "id": "m9SaDfEmNrDj"
      }
    },
    {
      "cell_type": "code",
      "source": [
        "set1 = {1, 2, 3}\n",
        "set2 = {3, 4, 5}"
      ],
      "metadata": {
        "id": "mc6N1ZQjV74C"
      },
      "execution_count": null,
      "outputs": []
    },
    {
      "cell_type": "code",
      "source": [
        "# Ваше решение"
      ],
      "metadata": {
        "id": "DCTw8VJDQP6Q"
      },
      "execution_count": null,
      "outputs": []
    },
    {
      "cell_type": "markdown",
      "source": [
        "### Решение"
      ],
      "metadata": {
        "id": "4tCx4afCQQYM"
      }
    },
    {
      "cell_type": "code",
      "source": [
        "set1 = {1, 2, 3}\n",
        "set2 = {3, 4, 5}\n",
        "intersection = sorted(set1.intersection(set2)) # находим только элементы, которые присутствуют и в `set1`, и в `set2` и сортируем их\n",
        "print(intersection)"
      ],
      "metadata": {
        "id": "FpVr5DOJLUNi",
        "colab": {
          "base_uri": "https://localhost:8080/"
        },
        "outputId": "50489230-5ed0-43cf-fc8e-76ca02733b81"
      },
      "execution_count": null,
      "outputs": [
        {
          "output_type": "stream",
          "name": "stdout",
          "text": [
            "[3]\n"
          ]
        }
      ]
    },
    {
      "cell_type": "markdown",
      "source": [
        "## Задача 24"
      ],
      "metadata": {
        "id": "vo8K-5rOPdUo"
      }
    },
    {
      "cell_type": "markdown",
      "source": [
        "Необходимо проверить, содержит ли список все элементы из другого списка."
      ],
      "metadata": {
        "id": "3F7ShAAXNjuU"
      }
    },
    {
      "cell_type": "code",
      "source": [
        "list1 = [1, 2, 3, 4, 5, 1, 2]\n",
        "list2 = [2, 4]"
      ],
      "metadata": {
        "id": "mRwz5YJmYuG6"
      },
      "execution_count": null,
      "outputs": []
    },
    {
      "cell_type": "code",
      "source": [
        "# Ваше решение"
      ],
      "metadata": {
        "id": "cnr4z3drQURv"
      },
      "execution_count": null,
      "outputs": []
    },
    {
      "cell_type": "markdown",
      "source": [
        "### Решение"
      ],
      "metadata": {
        "id": "sUrTiOyKQUsq"
      }
    },
    {
      "cell_type": "code",
      "source": [
        "list1 = [1, 2, 3, 4, 5, 1, 2]\n",
        "list2 = [2, 4]\n",
        "contains_all = set(list2).issubset(set(list1)) # преобразуем оба списка в множества с помощью функции set() и проверяем, является ли множество list2 подмножеством множества list1\n",
        "print(contains_all)"
      ],
      "metadata": {
        "id": "Fy1geqW3L8Ay",
        "colab": {
          "base_uri": "https://localhost:8080/"
        },
        "outputId": "694223f5-1e62-4205-fc3b-db3ab781bdb0"
      },
      "execution_count": null,
      "outputs": [
        {
          "output_type": "stream",
          "name": "stdout",
          "text": [
            "True\n"
          ]
        }
      ]
    },
    {
      "cell_type": "markdown",
      "source": [
        "## Задача 25"
      ],
      "metadata": {
        "id": "tQ2LNk7IPebP"
      }
    },
    {
      "cell_type": "markdown",
      "source": [
        "Напишите программу, которая будет искать первое положительное число в списке чисел. Если положительное число найдено, программа должна вывести его и завершиться. Если положительное число не найдено, программа должна вывести сообщение \"Положительное число не найдено\".\n"
      ],
      "metadata": {
        "id": "jWPMExskN8p9"
      }
    },
    {
      "cell_type": "code",
      "source": [
        "numbers = [-2, -5, 8, -10, 12, 15]"
      ],
      "metadata": {
        "id": "npXZOYoLbX5g"
      },
      "execution_count": null,
      "outputs": []
    },
    {
      "cell_type": "code",
      "source": [
        "# Ваше решение"
      ],
      "metadata": {
        "id": "i0IznjirQWXb"
      },
      "execution_count": null,
      "outputs": []
    },
    {
      "cell_type": "markdown",
      "source": [
        "### Решение"
      ],
      "metadata": {
        "id": "CtXc7jhlQWy3"
      }
    },
    {
      "cell_type": "code",
      "source": [
        "numbers = [-2, -5, 8, -10, 12, 15]\n",
        "# Инициализация переменной found как логической переменной со значением False\n",
        "found = False\n",
        "# Инициализация переменной index со значением 0\n",
        "index = 0\n",
        "# Запуск цикла while, который будет выполняться до тех пор, пока значение переменной index меньше длины списка numbers\n",
        "while index < len(numbers):\n",
        "    # Проверка условия: если текущий элемент списка numbers больше 0\n",
        "    if numbers[index] > 0:\n",
        "        # Если условие выполняется, устанавливаем значение переменной found в True\n",
        "        found = True\n",
        "        # Выводим сообщение о первом положительном числе в списке\n",
        "        print(\"Первое положительное число:\", numbers[index])\n",
        "        # Прерываем выполнение цикла\n",
        "        break\n",
        "    # Увеличиваем значение переменной index на 1\n",
        "    index += 1\n",
        "# Проверка условия: если значение переменной found равно False\n",
        "if not found:\n",
        "    # Если условие выполняется, выводим сообщение о том, что положительное число не найдено\n",
        "    print(\"Положительное число не найдено\")"
      ],
      "metadata": {
        "id": "ohXjcxU9N9T5",
        "colab": {
          "base_uri": "https://localhost:8080/"
        },
        "outputId": "d7a4adbd-7e79-4883-ac54-cda949f91ae6"
      },
      "execution_count": null,
      "outputs": [
        {
          "output_type": "stream",
          "name": "stdout",
          "text": [
            "Первое положительное число: 8\n"
          ]
        }
      ]
    },
    {
      "cell_type": "markdown",
      "source": [
        "## Задача 26"
      ],
      "metadata": {
        "id": "PwLoQrouPfn_"
      }
    },
    {
      "cell_type": "markdown",
      "source": [
        "Напишите программу, которая будет запрашивать у пользователя число и находить наименьший делитель этого числа, отличный от 1.\n"
      ],
      "metadata": {
        "id": "gEeYo0hY96JN"
      }
    },
    {
      "cell_type": "code",
      "source": [
        "# Ваше решение"
      ],
      "metadata": {
        "id": "-wOU59FcQYxi"
      },
      "execution_count": null,
      "outputs": []
    },
    {
      "cell_type": "markdown",
      "source": [
        "### Решение"
      ],
      "metadata": {
        "id": "hUiyXKRaQZSJ"
      }
    },
    {
      "cell_type": "code",
      "source": [
        "# Запрашиваем у пользователя ввод числа и преобразуем его в целое число\n",
        "num = int(input(\"Введите число: \"))\n",
        "\n",
        "# Инициализируем переменную i со значением 2\n",
        "i = 2\n",
        "\n",
        "# Запускаем цикл, который будет выполняться, пока i не превысит значение num\n",
        "while i <= num:\n",
        "    # Проверяем, делится ли число num на i без остатка\n",
        "    if num % i == 0:\n",
        "        # Если делится, то выводим сообщение о наименьшем делителе и выходим из цикла\n",
        "        print(\"Наименьший делитель:\", i)\n",
        "        break\n",
        "    # Увеличиваем значение i на 1\n",
        "    i += 1"
      ],
      "metadata": {
        "id": "QsBXkilaODmC",
        "colab": {
          "base_uri": "https://localhost:8080/"
        },
        "outputId": "502ac41d-5c20-4c1f-8f4d-57be28850842"
      },
      "execution_count": null,
      "outputs": [
        {
          "output_type": "stream",
          "name": "stdout",
          "text": [
            "Введите число: 10\n",
            "Наименьший делитель: 2\n"
          ]
        }
      ]
    },
    {
      "cell_type": "markdown",
      "source": [
        "## Задача 27"
      ],
      "metadata": {
        "id": "eUUcXSK4PgyX"
      }
    },
    {
      "cell_type": "markdown",
      "source": [
        "Напишите программу, которая принимает отсортированный список чисел и новое число, и вставляет его в правильную позицию в списке."
      ],
      "metadata": {
        "id": "c7TyrGln-DBm"
      }
    },
    {
      "cell_type": "code",
      "source": [
        "numbers = [1, 3, 5, 7, 9]\n",
        "new_number = 4"
      ],
      "metadata": {
        "id": "0py4AVI8c1Er"
      },
      "execution_count": null,
      "outputs": []
    },
    {
      "cell_type": "code",
      "source": [
        "# Ваше решение"
      ],
      "metadata": {
        "id": "iF3u_wfZQbFV"
      },
      "execution_count": null,
      "outputs": []
    },
    {
      "cell_type": "markdown",
      "source": [
        "### Решение"
      ],
      "metadata": {
        "id": "VGUfnEQuQbeD"
      }
    },
    {
      "cell_type": "code",
      "source": [
        "numbers = [1, 3, 5, 7, 9]\n",
        "new_number = 4\n",
        "\n",
        "# Итерируемся по индексам списка numbers с помощью функции range(len(numbers))\n",
        "for i in range(len(numbers)):\n",
        "    # Проверяем, если текущий элемент списка numbers больше значения new_number\n",
        "    if numbers[i] > new_number:\n",
        "        # Вставляем значение new_number на позицию i в списке numbers\n",
        "        numbers.insert(i, new_number)\n",
        "        # Прерываем цикл, так как значение new_number было вставлено\n",
        "        break\n",
        "else:\n",
        "    # Если цикл завершился без прерывания, значит все элементы списка numbers меньше или равны new_number\n",
        "    # В таком случае добавляем new_number в конец списка numbers\n",
        "    numbers.append(new_number)\n",
        "\n",
        "# Выводим обновленный список numbers\n",
        "print(\"Обновленный список:\", numbers)"
      ],
      "metadata": {
        "id": "VdGjPyhPOLBI",
        "colab": {
          "base_uri": "https://localhost:8080/"
        },
        "outputId": "3d4d9c12-105d-41f1-c37b-94a8cec30099"
      },
      "execution_count": null,
      "outputs": [
        {
          "output_type": "stream",
          "name": "stdout",
          "text": [
            "Обновленный список: [1, 3, 4, 5, 7, 9]\n"
          ]
        }
      ]
    },
    {
      "cell_type": "markdown",
      "source": [
        "## Задача 28"
      ],
      "metadata": {
        "id": "sr54XRSedRf5"
      }
    },
    {
      "cell_type": "markdown",
      "source": [
        "Необходимо проверить, содержит ли список покупок все необходимые продукты и вывести список какие продукты необходимо купить"
      ],
      "metadata": {
        "id": "de2eA7lTZDD8"
      }
    },
    {
      "cell_type": "code",
      "source": [
        "# список покупок\n",
        "shopping_list = [\"яблоки\", \"молоко\", \"хлеб\", \"сыр\"]\n",
        "\n",
        "# список необходимых продуктов\n",
        "required_items = [\"яблоки\", \"молоко\", \"хлеб\", \"сыр\", \"яйца\"]"
      ],
      "metadata": {
        "id": "QazL2ONjd3qX"
      },
      "execution_count": null,
      "outputs": []
    },
    {
      "cell_type": "code",
      "source": [
        "# Ваше решение"
      ],
      "metadata": {
        "id": "5b1s2dTjd6Ge"
      },
      "execution_count": null,
      "outputs": []
    },
    {
      "cell_type": "markdown",
      "source": [
        "### Решение"
      ],
      "metadata": {
        "id": "lNO0_mJ4d5o-"
      }
    },
    {
      "cell_type": "code",
      "source": [
        "shopping_list = [\"яблоки\", \"молоко\", \"хлеб\", \"сыр\"]\n",
        "\n",
        "required_items = [\"яблоки\", \"молоко\", \"хлеб\", \"сыр\", \"яйца\"]\n",
        "\n",
        "# Создаем пустой список для отсутствующих продуктов\n",
        "missing_items = []\n",
        "\n",
        "# Проверяем каждый продукт из списка необходимых продуктов\n",
        "for item in required_items:\n",
        "    # Если продукт отсутствует в списке покупок, добавляем его в список отсутствующих продуктов\n",
        "    if item not in shopping_list:\n",
        "        missing_items.append(item)\n",
        "\n",
        "# Если список отсутствующих продуктов пуст, значит все необходимые продукты есть в списке покупок\n",
        "if len(missing_items) == 0:\n",
        "    print(\"Все необходимые продукты есть в списке покупок\")\n",
        "else:\n",
        "    # Иначе выводим список отсутствующих продуктов\n",
        "    print(\"Необходимо купить следующие продукты:\")\n",
        "    for item in missing_items:\n",
        "        print(item)"
      ],
      "metadata": {
        "colab": {
          "base_uri": "https://localhost:8080/"
        },
        "id": "IZ_99RbLZBbP",
        "outputId": "8ede1b09-4b75-422b-c8f5-ac9b96238b65"
      },
      "execution_count": null,
      "outputs": [
        {
          "output_type": "stream",
          "name": "stdout",
          "text": [
            "Необходимо купить следующие продукты:\n",
            "яйца\n"
          ]
        }
      ]
    },
    {
      "cell_type": "markdown",
      "source": [
        "## Задача 29"
      ],
      "metadata": {
        "id": "_ZKDTAA6pbD-"
      }
    },
    {
      "cell_type": "markdown",
      "source": [
        "Проверьте, является ли введенное пользователем чисило кратынм 3 и 5"
      ],
      "metadata": {
        "id": "rgxAMT0XoerO"
      }
    },
    {
      "cell_type": "code",
      "source": [
        "# Ваше решение"
      ],
      "metadata": {
        "id": "_wZSEVoQoy5m"
      },
      "execution_count": null,
      "outputs": []
    },
    {
      "cell_type": "markdown",
      "source": [
        "### Решение"
      ],
      "metadata": {
        "id": "Kj1f_IOwo6nY"
      }
    },
    {
      "cell_type": "code",
      "source": [
        "num = int(input(\"Введите число: \"))\n",
        "if num % 3 == 0 and num % 5 == 0:\n",
        "  print(\"Число кратно 3 и 5\")\n",
        "else:\n",
        "  print(\"Число не кратно 3 и 5\")"
      ],
      "metadata": {
        "colab": {
          "base_uri": "https://localhost:8080/"
        },
        "id": "No_L6c3hhwuq",
        "outputId": "08536f31-f7d3-4f97-c026-9668aa21835c"
      },
      "execution_count": null,
      "outputs": [
        {
          "output_type": "stream",
          "name": "stdout",
          "text": [
            "Введите число: 15\n",
            "Число кратно 3 и 5\n"
          ]
        }
      ]
    },
    {
      "cell_type": "markdown",
      "source": [
        "## Задача 30"
      ],
      "metadata": {
        "id": "jAXgyWJhpe2f"
      }
    },
    {
      "cell_type": "markdown",
      "source": [
        "Создайте новый список и добавьте туда пары ключ - значения из словаря my_dict"
      ],
      "metadata": {
        "id": "f1hzaJC7oKxv"
      }
    },
    {
      "cell_type": "code",
      "source": [
        "my_dict = {'key1': 'value1', 'key2': 'value2'}"
      ],
      "metadata": {
        "id": "PbStAFu6oSSP"
      },
      "execution_count": null,
      "outputs": []
    },
    {
      "cell_type": "code",
      "source": [
        "# Ваше решение"
      ],
      "metadata": {
        "id": "Mb3nUnXMo2ns"
      },
      "execution_count": null,
      "outputs": []
    },
    {
      "cell_type": "markdown",
      "source": [
        "### Решение"
      ],
      "metadata": {
        "id": "vU-LL6nRo94f"
      }
    },
    {
      "cell_type": "code",
      "source": [
        "my_dict = {'key1': 'value1', 'key2': 'value2'}\n",
        "new_list = list(my_dict.items())\n",
        "new_list"
      ],
      "metadata": {
        "colab": {
          "base_uri": "https://localhost:8080/"
        },
        "id": "crEX09MPnWct",
        "outputId": "7c6dc08c-dd60-4d16-a3b2-d9da800d6da0"
      },
      "execution_count": null,
      "outputs": [
        {
          "output_type": "execute_result",
          "data": {
            "text/plain": [
              "[('key1', 'value1'), ('key2', 'value2')]"
            ]
          },
          "metadata": {},
          "execution_count": 92
        }
      ]
    },
    {
      "cell_type": "markdown",
      "source": [
        "## Задача 31\n"
      ],
      "metadata": {
        "id": "BBrF_VAWFmQX"
      }
    },
    {
      "cell_type": "markdown",
      "source": [
        "Напишите программу, которая запрашивает у пользователя число n - количество строк, и выводит треугольник Паскаля до n-ой строки.\n",
        "\n",
        "Треугольник Паскаля - это треугольник чисел, в котором каждое число равно сумме двух чисел, расположенных над ним. Первая строка треугольника состоит из числа 1, каждая следующая строка получается путем сложения двух чисел из предыдущей строки и добавления единицы в начало и конец строки.\n",
        "\n",
        "Пример:\n",
        "Введите количество строк: 5\n",
        "```\n",
        "     1\n",
        "    1 1\n",
        "   1 2 1\n",
        "  1 3 3 1\n",
        " 1 4 6 4 1\n",
        "\n",
        "```\n",
        "\n",
        "\n",
        "Подсказка: Для вычисления чисел треугольника Паскаля можно использовать формулу сочетаний."
      ],
      "metadata": {
        "id": "Sjk_RytIFmQY"
      }
    },
    {
      "cell_type": "code",
      "source": [
        "# Ваше решение"
      ],
      "metadata": {
        "id": "UoIdGCpIFmQY"
      },
      "execution_count": null,
      "outputs": []
    },
    {
      "cell_type": "markdown",
      "source": [
        "### Решение"
      ],
      "metadata": {
        "id": "-lz2wUJbFmQY"
      }
    },
    {
      "cell_type": "code",
      "source": [
        "# ввод n\n",
        "n = int(input(\"Введите количество строк:\"))\n",
        "\n",
        "# итерация до n\n",
        "for i in range(n):\n",
        "   # настройка пробелов\n",
        "   print(' '*(n-i), end='')\n",
        "\n",
        "   # вычисление степени 11\n",
        "   print(' '.join(map(str, str(11**i))))"
      ],
      "metadata": {
        "colab": {
          "base_uri": "https://localhost:8080/"
        },
        "outputId": "a6f6ecf5-8192-45fc-c61c-a83635d7906d",
        "id": "0hK8Rb_7FmQZ"
      },
      "execution_count": null,
      "outputs": [
        {
          "output_type": "stream",
          "name": "stdout",
          "text": [
            "Введите количество строк:5\n",
            "     1\n",
            "    1 1\n",
            "   1 2 1\n",
            "  1 3 3 1\n",
            " 1 4 6 4 1\n"
          ]
        }
      ]
    },
    {
      "cell_type": "markdown",
      "source": [
        "## Задача 32"
      ],
      "metadata": {
        "id": "ptWGzFQxGspb"
      }
    },
    {
      "cell_type": "markdown",
      "source": [
        "Напишите программу, которая будет моделировать изменение размера популяции на протяжении n дней.\n",
        "\n",
        "На вход программе подаются следующие значения:\n",
        "- m: начальный размер популяции\n",
        "- p: процент ежедневного прироста популяции\n",
        "- n: количество дней, на которые нужно моделировать изменение популяции\n",
        "- q: процент ежедневной убыли популяции\n",
        "\n",
        "Программа должна вывести на экран размер популяции на каждый из n дней."
      ],
      "metadata": {
        "id": "pmAb_JlWIseK"
      }
    },
    {
      "cell_type": "code",
      "source": [
        "# Ваше решение"
      ],
      "metadata": {
        "id": "Go-w_A5QGspd"
      },
      "execution_count": null,
      "outputs": []
    },
    {
      "cell_type": "markdown",
      "source": [
        "### Решение"
      ],
      "metadata": {
        "id": "sT_6xwD9Gspd"
      }
    },
    {
      "cell_type": "code",
      "source": [
        "m = int(input(\"Введите начальный размер популяции: \"))\n",
        "p = int(input(\"Введите процент ежедневного прироста популяции: \"))\n",
        "q = int(input(\"Введите процент ежедневной убыли популяции: \"))\n",
        "n = int(input(\"Введите количество дней: \"))\n",
        "\n",
        "# Здесь мы создаем цикл, который будет выполняться от 1 до n+1 (включительно).\n",
        "for i in range(1, n+1):\n",
        "    # Здесь мы вычисляем размер популяции на i-й день, используя формулу m * (1 + p/100)**i.\n",
        "    population = m * (1 + p/100)**i\n",
        "    # Здесь мы вычитаем из размера популяции убыль на i-й день, используя формулу population * (1 - q/100).\n",
        "    population -= population * (q/100)\n",
        "    # Здесь мы выводим сообщение о размере популяции на i-й день, используя f-строку для форматирования.\n",
        "    print(f\"Размер популяции на {i}-й день: {population}\")"
      ],
      "metadata": {
        "colab": {
          "base_uri": "https://localhost:8080/"
        },
        "outputId": "36710d59-8d18-4faf-c19d-3b8573dcc3ca",
        "id": "Swkrl5s1Gspd"
      },
      "execution_count": null,
      "outputs": [
        {
          "output_type": "stream",
          "name": "stdout",
          "text": [
            "Введите начальный размер популяции: 10\n",
            "Введите процент ежедневного прироста популяции: 24\n",
            "Введите процент ежедневной убыли популяции: 8\n",
            "Введите количество дней: 7\n",
            "Размер популяции на 1-й день: 11.408\n",
            "Размер популяции на 2-й день: 14.14592\n",
            "Размер популяции на 3-й день: 17.5409408\n",
            "Размер популяции на 4-й день: 21.750766591999998\n",
            "Размер популяции на 5-й день: 26.97095057408\n",
            "Размер популяции на 6-й день: 33.4439787118592\n",
            "Размер популяции на 7-й день: 41.47053360270541\n"
          ]
        }
      ]
    },
    {
      "cell_type": "markdown",
      "source": [
        "## Задача 33"
      ],
      "metadata": {
        "id": "2CD-HgCz8xPy"
      }
    },
    {
      "cell_type": "markdown",
      "source": [
        "Вам необходимо реализовать игру \"Угадай слово\". Программа должна случайным образом выбирать одно из слов: \"яблоко\", \"банан\", \"вишня\", \"виноград\" или \"апельсин\". Затем игрок должен угадать это слово, вводя буквы по одной. Если введенная буква присутствует в загаданном слове, она должна отобразиться на своем месте в угадываемом слове. Если буква не присутствует, игрок теряет одну попытку. Игра продолжается до тех пор, пока игрок не угадает слово или не закончатся попытки. Если игрок угадывает слово, программа должна вывести сообщение о победе. Если попытки закончились, программа должна вывести сообщение о проигрыше и показать загаданное слово."
      ],
      "metadata": {
        "id": "X2F2y8_08zxc"
      }
    },
    {
      "cell_type": "code",
      "source": [
        "# Ваше решение"
      ],
      "metadata": {
        "id": "9goglS7L80k4"
      },
      "execution_count": null,
      "outputs": []
    },
    {
      "cell_type": "markdown",
      "source": [
        "### Решение"
      ],
      "metadata": {
        "id": "R-tpp7bs88Pv"
      }
    },
    {
      "cell_type": "code",
      "source": [
        "# Импортируем модуль random для работы с генерацией случайных чисел\n",
        "import random\n",
        "\n",
        "# Определяем функцию play_game, которая будет содержать логику игры\n",
        "def play_game():\n",
        "    # Создаем список слов, из которых будет выбираться загаданное слово\n",
        "    words = [\"яблоко\", \"банан\", \"вишня\", \"виноград\", \"апельсин\"]\n",
        "    # Выбираем случайное слово из списка\n",
        "    word = random.choice(words)\n",
        "    # Создаем список для хранения угаданных букв\n",
        "    guessed_letters = []\n",
        "    # Устанавливаем количество попыток\n",
        "    tries = 6\n",
        "\n",
        "    # Выводим приветственное сообщение и информацию о количестве букв в загаданном слове\n",
        "    print(\"Добро пожаловать в игру 'Угадай слово'!\")\n",
        "    print(\"Слово состоит из\", len(word), \"букв.\")\n",
        "\n",
        "    # Запускаем цикл, пока остались попытки\n",
        "    while tries > 0:\n",
        "        # Создаем переменную для хранения угаданного слова\n",
        "        guessed_word = \"\"\n",
        "        # Проверяем каждую букву в загаданном слове\n",
        "        for letter in word:\n",
        "            # Если буква уже угадана, добавляем ее к угаданному слову\n",
        "            if letter in guessed_letters:\n",
        "                guessed_word += letter\n",
        "            # Если буква еще не угадана, заменяем ее на символ \"_\"\n",
        "            else:\n",
        "                guessed_word += \"_\"\n",
        "\n",
        "        # Выводим угаданное слово и количество оставшихся попыток\n",
        "        print(\"Угаданное слово:\", guessed_word)\n",
        "        print(\"Осталось попыток:\", tries)\n",
        "\n",
        "        # Проверяем, угадано ли слово полностью\n",
        "        if guessed_word == word:\n",
        "            print(\"Поздравляю! Вы угадали слово!\")\n",
        "            break\n",
        "\n",
        "        # Запрашиваем у пользователя ввод буквы\n",
        "        guess = input(\"Введите букву: \").lower()\n",
        "\n",
        "        # Проверяем, была ли уже угадана эта буква\n",
        "        if guess in guessed_letters:\n",
        "            print(\"Вы уже угадывали эту букву. Попробуйте еще раз.\")\n",
        "        # Проверяем, есть ли угаданная буква в загаданном слове\n",
        "        elif guess in word:\n",
        "            print(\"Правильное угадывание!\")\n",
        "            # Добавляем угаданную букву в список угаданных букв\n",
        "            guessed_letters.append(guess)\n",
        "        # Если буква не угадана, уменьшаем количество попыток и добавляем букву в список угаданных\n",
        "        else:\n",
        "            print(\"Неправильное угадывание!\")\n",
        "            tries -= 1\n",
        "            guessed_letters.append(guess)\n",
        "\n",
        "    # Если закончились попытки, выводим сообщение о конце игры и показываем загаданное слово\n",
        "    if tries == 0:\n",
        "        print(\"Игра окончена! У вас закончились попытки. Слово было\", word)\n",
        "\n",
        "# Запускаем игру\n",
        "play_game()\n"
      ],
      "metadata": {
        "colab": {
          "base_uri": "https://localhost:8080/"
        },
        "id": "2u1_wlB88t2D",
        "outputId": "06e82c07-138d-466a-e9a4-0d3f60ee3a98"
      },
      "execution_count": null,
      "outputs": [
        {
          "output_type": "stream",
          "name": "stdout",
          "text": [
            "Добро пожаловать в игру 'Угадай слово'!\n",
            "Слово состоит из 5 букв.\n",
            "Угаданное слово: _____\n",
            "Осталось попыток: 6\n",
            "Введите букву: я\n",
            "Неправильное угадывание!\n",
            "Угаданное слово: _____\n",
            "Осталось попыток: 5\n",
            "Введите букву: а\n",
            "Правильное угадывание!\n",
            "Угаданное слово: _а_а_\n",
            "Осталось попыток: 5\n",
            "Введите букву: б\n",
            "Правильное угадывание!\n",
            "Угаданное слово: ба_а_\n",
            "Осталось попыток: 5\n",
            "Введите букву: н\n",
            "Правильное угадывание!\n",
            "Угаданное слово: банан\n",
            "Осталось попыток: 5\n",
            "Поздравляю! Вы угадали слово!\n"
          ]
        }
      ]
    }
  ]
}